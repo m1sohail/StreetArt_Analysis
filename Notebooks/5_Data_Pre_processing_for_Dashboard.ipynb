{
  "nbformat": 4,
  "nbformat_minor": 0,
  "metadata": {
    "colab": {
      "name": "5.Data Pre-processing for Dashboard",
      "provenance": []
    },
    "kernelspec": {
      "name": "python3",
      "display_name": "Python 3"
    },
    "language_info": {
      "name": "python"
    }
  },
  "cells": [
    {
      "cell_type": "markdown",
      "metadata": {
        "id": "qlAUUkqxqLXm"
      },
      "source": [
        "## Data frame preparation and cleaning for dashboard"
      ]
    },
    {
      "cell_type": "code",
      "metadata": {
        "id": "sVENmJeKcjiw"
      },
      "source": [
        "import pandas as pd\n",
        "import numpy as np"
      ],
      "execution_count": null,
      "outputs": []
    },
    {
      "cell_type": "code",
      "metadata": {
        "id": "6A2JrTeeqQxH"
      },
      "source": [
        "#1 - dataframe output from google vision\n",
        "posts_df = pd.read_excel('https://raw.githubusercontent.com/scmartel/insy670/main/Google_Vision_DF.xlsx')\n",
        "\n",
        "#2 - dataframe output from user posts with cleaning and mapping\n",
        "map_df = pd.read_csv('https://raw.githubusercontent.com/scmartel/insy670/main/map_df.csv')\n",
        "\n",
        "#3 - dataframe output from posts scrapped using comments\n",
        "hashtag_df = pd.read_csv('https://raw.githubusercontent.com/scmartel/insy670/main/geocodes_comments2.csv')"
      ],
      "execution_count": null,
      "outputs": []
    },
    {
      "cell_type": "code",
      "metadata": {
        "colab": {
          "base_uri": "https://localhost:8080/",
          "height": 479
        },
        "id": "oCqcHLxDuB_8",
        "outputId": "ce60469b-b622-4a84-b2b1-ab0218a15e78"
      },
      "source": [
        "posts_df.head()"
      ],
      "execution_count": null,
      "outputs": [
        {
          "output_type": "execute_result",
          "data": {
            "text/html": [
              "<div>\n",
              "<style scoped>\n",
              "    .dataframe tbody tr th:only-of-type {\n",
              "        vertical-align: middle;\n",
              "    }\n",
              "\n",
              "    .dataframe tbody tr th {\n",
              "        vertical-align: top;\n",
              "    }\n",
              "\n",
              "    .dataframe thead th {\n",
              "        text-align: right;\n",
              "    }\n",
              "</style>\n",
              "<table border=\"1\" class=\"dataframe\">\n",
              "  <thead>\n",
              "    <tr style=\"text-align: right;\">\n",
              "      <th></th>\n",
              "      <th>Unnamed: 0</th>\n",
              "      <th>Caption</th>\n",
              "      <th>Comments</th>\n",
              "      <th>Likes</th>\n",
              "      <th>URL</th>\n",
              "      <th>Object_Num</th>\n",
              "      <th>Object_0_score</th>\n",
              "      <th>Object_1_score</th>\n",
              "      <th>Object_2_score</th>\n",
              "      <th>Object_3_score</th>\n",
              "      <th>Object_4_score</th>\n",
              "      <th>Object_5_score</th>\n",
              "      <th>Object_6_score</th>\n",
              "      <th>Object_7_score</th>\n",
              "      <th>Object_8_score</th>\n",
              "      <th>Object_9_score</th>\n",
              "      <th>Object_0</th>\n",
              "      <th>Object_1</th>\n",
              "      <th>Object_2</th>\n",
              "      <th>Object_3</th>\n",
              "      <th>Object_4</th>\n",
              "      <th>Object_5</th>\n",
              "      <th>Object_6</th>\n",
              "      <th>Object_7</th>\n",
              "      <th>Object_8</th>\n",
              "      <th>Object_9</th>\n",
              "      <th>Total_Objects_Names</th>\n",
              "      <th>Total_Objects_Scores</th>\n",
              "      <th>Label_Num</th>\n",
              "      <th>Label_0_score</th>\n",
              "      <th>Label_1_score</th>\n",
              "      <th>Label_2_score</th>\n",
              "      <th>Label_3_score</th>\n",
              "      <th>Label_4_score</th>\n",
              "      <th>Label_5_score</th>\n",
              "      <th>Label_6_score</th>\n",
              "      <th>Label_7_score</th>\n",
              "      <th>Label_8_score</th>\n",
              "      <th>Label_9_score</th>\n",
              "      <th>Label_0</th>\n",
              "      <th>Label_1</th>\n",
              "      <th>Label_2</th>\n",
              "      <th>Label_3</th>\n",
              "      <th>Label_4</th>\n",
              "      <th>Label_5</th>\n",
              "      <th>Label_6</th>\n",
              "      <th>Label_7</th>\n",
              "      <th>Label_8</th>\n",
              "      <th>Label_9</th>\n",
              "      <th>Labels_Objects_Names</th>\n",
              "      <th>Labels_Objects_Scores</th>\n",
              "      <th>Engagement</th>\n",
              "    </tr>\n",
              "  </thead>\n",
              "  <tbody>\n",
              "    <tr>\n",
              "      <th>0</th>\n",
              "      <td>0</td>\n",
              "      <td>“Always Stay Hungry” - work by @sasha.korban f...</td>\n",
              "      <td>3</td>\n",
              "      <td>175</td>\n",
              "      <td>https://scontent-atl3-1.cdninstagram.com/v/t51...</td>\n",
              "      <td>2</td>\n",
              "      <td>0.781665</td>\n",
              "      <td>0.530012</td>\n",
              "      <td>NaN</td>\n",
              "      <td>NaN</td>\n",
              "      <td>NaN</td>\n",
              "      <td>NaN</td>\n",
              "      <td>NaN</td>\n",
              "      <td>NaN</td>\n",
              "      <td>NaN</td>\n",
              "      <td>NaN</td>\n",
              "      <td>Person</td>\n",
              "      <td>Building</td>\n",
              "      <td>NaN</td>\n",
              "      <td>NaN</td>\n",
              "      <td>NaN</td>\n",
              "      <td>NaN</td>\n",
              "      <td>NaN</td>\n",
              "      <td>NaN</td>\n",
              "      <td>NaN</td>\n",
              "      <td>NaN</td>\n",
              "      <td>['Person', 'Building']</td>\n",
              "      <td>['0.7816652655601501', '0.5300119519233704']</td>\n",
              "      <td>10</td>\n",
              "      <td>0.964321</td>\n",
              "      <td>0.933414</td>\n",
              "      <td>0.921864</td>\n",
              "      <td>0.911200</td>\n",
              "      <td>0.893350</td>\n",
              "      <td>0.855671</td>\n",
              "      <td>0.851890</td>\n",
              "      <td>0.824412</td>\n",
              "      <td>0.819045</td>\n",
              "      <td>0.812318</td>\n",
              "      <td>Building</td>\n",
              "      <td>Car</td>\n",
              "      <td>White</td>\n",
              "      <td>Window</td>\n",
              "      <td>Infrastructure</td>\n",
              "      <td>Street fashion</td>\n",
              "      <td>Automotive lighting</td>\n",
              "      <td>Eyewear</td>\n",
              "      <td>Art</td>\n",
              "      <td>Neighbourhood</td>\n",
              "      <td>['Building', 'Car', 'White', 'Window', 'Infras...</td>\n",
              "      <td>['0.964320719242096', '0.933414101600647', '0....</td>\n",
              "      <td>525</td>\n",
              "    </tr>\n",
              "    <tr>\n",
              "      <th>1</th>\n",
              "      <td>1</td>\n",
              "      <td>Work by @ronenglish on the famed Houston Bower...</td>\n",
              "      <td>2</td>\n",
              "      <td>115</td>\n",
              "      <td>https://scontent-atl3-1.cdninstagram.com/v/t51...</td>\n",
              "      <td>1</td>\n",
              "      <td>0.710405</td>\n",
              "      <td>NaN</td>\n",
              "      <td>NaN</td>\n",
              "      <td>NaN</td>\n",
              "      <td>NaN</td>\n",
              "      <td>NaN</td>\n",
              "      <td>NaN</td>\n",
              "      <td>NaN</td>\n",
              "      <td>NaN</td>\n",
              "      <td>NaN</td>\n",
              "      <td>Person</td>\n",
              "      <td>NaN</td>\n",
              "      <td>NaN</td>\n",
              "      <td>NaN</td>\n",
              "      <td>NaN</td>\n",
              "      <td>NaN</td>\n",
              "      <td>NaN</td>\n",
              "      <td>NaN</td>\n",
              "      <td>NaN</td>\n",
              "      <td>NaN</td>\n",
              "      <td>['Person']</td>\n",
              "      <td>['0.7104054093360901']</td>\n",
              "      <td>10</td>\n",
              "      <td>0.822278</td>\n",
              "      <td>0.821241</td>\n",
              "      <td>0.815670</td>\n",
              "      <td>0.809046</td>\n",
              "      <td>0.808544</td>\n",
              "      <td>0.774607</td>\n",
              "      <td>0.742931</td>\n",
              "      <td>0.730672</td>\n",
              "      <td>0.712364</td>\n",
              "      <td>0.680442</td>\n",
              "      <td>Painting</td>\n",
              "      <td>Art</td>\n",
              "      <td>Graffiti</td>\n",
              "      <td>Brick</td>\n",
              "      <td>Building</td>\n",
              "      <td>Facade</td>\n",
              "      <td>Mural</td>\n",
              "      <td>Rectangle</td>\n",
              "      <td>City</td>\n",
              "      <td>Illustration</td>\n",
              "      <td>['Painting', 'Art', 'Graffiti', 'Brick', 'Buil...</td>\n",
              "      <td>['0.8222779035568237', '0.8212408423423767', '...</td>\n",
              "      <td>230</td>\n",
              "    </tr>\n",
              "    <tr>\n",
              "      <th>2</th>\n",
              "      <td>2</td>\n",
              "      <td>New work by @invaderwashere in Slovenia. 👾</td>\n",
              "      <td>2</td>\n",
              "      <td>111</td>\n",
              "      <td>https://scontent-atl3-1.cdninstagram.com/v/t51...</td>\n",
              "      <td>1</td>\n",
              "      <td>0.929607</td>\n",
              "      <td>NaN</td>\n",
              "      <td>NaN</td>\n",
              "      <td>NaN</td>\n",
              "      <td>NaN</td>\n",
              "      <td>NaN</td>\n",
              "      <td>NaN</td>\n",
              "      <td>NaN</td>\n",
              "      <td>NaN</td>\n",
              "      <td>NaN</td>\n",
              "      <td>2D barcode</td>\n",
              "      <td>NaN</td>\n",
              "      <td>NaN</td>\n",
              "      <td>NaN</td>\n",
              "      <td>NaN</td>\n",
              "      <td>NaN</td>\n",
              "      <td>NaN</td>\n",
              "      <td>NaN</td>\n",
              "      <td>NaN</td>\n",
              "      <td>NaN</td>\n",
              "      <td>['2D barcode']</td>\n",
              "      <td>['0.9296074509620667']</td>\n",
              "      <td>10</td>\n",
              "      <td>0.867903</td>\n",
              "      <td>0.847361</td>\n",
              "      <td>0.824317</td>\n",
              "      <td>0.819373</td>\n",
              "      <td>0.766298</td>\n",
              "      <td>0.753478</td>\n",
              "      <td>0.753110</td>\n",
              "      <td>0.738153</td>\n",
              "      <td>0.693785</td>\n",
              "      <td>0.688408</td>\n",
              "      <td>Rectangle</td>\n",
              "      <td>Art</td>\n",
              "      <td>Font</td>\n",
              "      <td>Line</td>\n",
              "      <td>Gas</td>\n",
              "      <td>Symmetry</td>\n",
              "      <td>Pattern</td>\n",
              "      <td>Creative arts</td>\n",
              "      <td>Illustration</td>\n",
              "      <td>Wood</td>\n",
              "      <td>['Rectangle', 'Art', 'Font', 'Line', 'Gas', 'S...</td>\n",
              "      <td>['0.8679025769233704', '0.8473606109619141', '...</td>\n",
              "      <td>222</td>\n",
              "    </tr>\n",
              "    <tr>\n",
              "      <th>3</th>\n",
              "      <td>3</td>\n",
              "      <td>Work by @davidzinn in Ann Arbor, Michigan.</td>\n",
              "      <td>30</td>\n",
              "      <td>3289</td>\n",
              "      <td>https://scontent-atl3-1.cdninstagram.com/v/t51...</td>\n",
              "      <td>0</td>\n",
              "      <td>NaN</td>\n",
              "      <td>NaN</td>\n",
              "      <td>NaN</td>\n",
              "      <td>NaN</td>\n",
              "      <td>NaN</td>\n",
              "      <td>NaN</td>\n",
              "      <td>NaN</td>\n",
              "      <td>NaN</td>\n",
              "      <td>NaN</td>\n",
              "      <td>NaN</td>\n",
              "      <td>NaN</td>\n",
              "      <td>NaN</td>\n",
              "      <td>NaN</td>\n",
              "      <td>NaN</td>\n",
              "      <td>NaN</td>\n",
              "      <td>NaN</td>\n",
              "      <td>NaN</td>\n",
              "      <td>NaN</td>\n",
              "      <td>NaN</td>\n",
              "      <td>NaN</td>\n",
              "      <td>[]</td>\n",
              "      <td>[]</td>\n",
              "      <td>10</td>\n",
              "      <td>0.882692</td>\n",
              "      <td>0.864480</td>\n",
              "      <td>0.863921</td>\n",
              "      <td>0.862133</td>\n",
              "      <td>0.850131</td>\n",
              "      <td>0.815706</td>\n",
              "      <td>0.815498</td>\n",
              "      <td>0.788973</td>\n",
              "      <td>0.748590</td>\n",
              "      <td>0.722193</td>\n",
              "      <td>Building</td>\n",
              "      <td>Rectangle</td>\n",
              "      <td>Brickwork</td>\n",
              "      <td>Brick</td>\n",
              "      <td>Building material</td>\n",
              "      <td>Wall</td>\n",
              "      <td>Line</td>\n",
              "      <td>Composite material</td>\n",
              "      <td>Pattern</td>\n",
              "      <td>Wood</td>\n",
              "      <td>['Building', 'Rectangle', 'Brickwork', 'Brick'...</td>\n",
              "      <td>['0.8826923370361328', '0.8644804954528809', '...</td>\n",
              "      <td>98670</td>\n",
              "    </tr>\n",
              "    <tr>\n",
              "      <th>4</th>\n",
              "      <td>4</td>\n",
              "      <td>“Touché, coulé” - new work by @matth.velvet in...</td>\n",
              "      <td>2</td>\n",
              "      <td>189</td>\n",
              "      <td>https://scontent-atl3-1.cdninstagram.com/v/t51...</td>\n",
              "      <td>4</td>\n",
              "      <td>0.695513</td>\n",
              "      <td>0.635542</td>\n",
              "      <td>0.555453</td>\n",
              "      <td>0.550535</td>\n",
              "      <td>NaN</td>\n",
              "      <td>NaN</td>\n",
              "      <td>NaN</td>\n",
              "      <td>NaN</td>\n",
              "      <td>NaN</td>\n",
              "      <td>NaN</td>\n",
              "      <td>Building</td>\n",
              "      <td>Building</td>\n",
              "      <td>Building</td>\n",
              "      <td>Building</td>\n",
              "      <td>NaN</td>\n",
              "      <td>NaN</td>\n",
              "      <td>NaN</td>\n",
              "      <td>NaN</td>\n",
              "      <td>NaN</td>\n",
              "      <td>NaN</td>\n",
              "      <td>['Building', 'Building', 'Building', 'Building']</td>\n",
              "      <td>['0.6955127716064453', '0.6355423927307129', '...</td>\n",
              "      <td>10</td>\n",
              "      <td>0.944473</td>\n",
              "      <td>0.944195</td>\n",
              "      <td>0.935644</td>\n",
              "      <td>0.934243</td>\n",
              "      <td>0.897405</td>\n",
              "      <td>0.894920</td>\n",
              "      <td>0.894773</td>\n",
              "      <td>0.890608</td>\n",
              "      <td>0.856470</td>\n",
              "      <td>0.853654</td>\n",
              "      <td>Sky</td>\n",
              "      <td>Daytime</td>\n",
              "      <td>Window</td>\n",
              "      <td>Building</td>\n",
              "      <td>Paint</td>\n",
              "      <td>Azure</td>\n",
              "      <td>Art paint</td>\n",
              "      <td>Infrastructure</td>\n",
              "      <td>Urban design</td>\n",
              "      <td>Art</td>\n",
              "      <td>['Sky', 'Daytime', 'Window', 'Building', 'Pain...</td>\n",
              "      <td>['0.9444730877876282', '0.9441952705383301', '...</td>\n",
              "      <td>378</td>\n",
              "    </tr>\n",
              "  </tbody>\n",
              "</table>\n",
              "</div>"
            ],
            "text/plain": [
              "   Unnamed: 0  ... Engagement\n",
              "0           0  ...        525\n",
              "1           1  ...        230\n",
              "2           2  ...        222\n",
              "3           3  ...      98670\n",
              "4           4  ...        378\n",
              "\n",
              "[5 rows x 52 columns]"
            ]
          },
          "metadata": {
            "tags": []
          },
          "execution_count": 30
        }
      ]
    },
    {
      "cell_type": "code",
      "metadata": {
        "colab": {
          "base_uri": "https://localhost:8080/",
          "height": 442
        },
        "id": "ixNjAUJowVkC",
        "outputId": "83a14c84-c914-4489-83b5-90e03ea5a8e3"
      },
      "source": [
        "map_df.head()"
      ],
      "execution_count": null,
      "outputs": [
        {
          "output_type": "execute_result",
          "data": {
            "text/html": [
              "<div>\n",
              "<style scoped>\n",
              "    .dataframe tbody tr th:only-of-type {\n",
              "        vertical-align: middle;\n",
              "    }\n",
              "\n",
              "    .dataframe tbody tr th {\n",
              "        vertical-align: top;\n",
              "    }\n",
              "\n",
              "    .dataframe thead th {\n",
              "        text-align: right;\n",
              "    }\n",
              "</style>\n",
              "<table border=\"1\" class=\"dataframe\">\n",
              "  <thead>\n",
              "    <tr style=\"text-align: right;\">\n",
              "      <th></th>\n",
              "      <th>Caption</th>\n",
              "      <th>Comments</th>\n",
              "      <th>Likes</th>\n",
              "      <th>URL</th>\n",
              "      <th>Named Entities</th>\n",
              "      <th>Tokenized Entities</th>\n",
              "      <th>lat</th>\n",
              "      <th>lon</th>\n",
              "      <th>Name</th>\n",
              "      <th>Short Name</th>\n",
              "      <th>Country</th>\n",
              "      <th>Postal Code</th>\n",
              "      <th>Administrative Level 1</th>\n",
              "      <th>Administrative Level 1 Short</th>\n",
              "      <th>cleaned_captions</th>\n",
              "      <th>tokenized_captions</th>\n",
              "      <th>tagged_users</th>\n",
              "    </tr>\n",
              "  </thead>\n",
              "  <tbody>\n",
              "    <tr>\n",
              "      <th>0</th>\n",
              "      <td>@timo_levin wall in Kamianske, Ukraine 🇺🇦(2021...</td>\n",
              "      <td>11.0</td>\n",
              "      <td>2276.0</td>\n",
              "      <td>https://scontent-bos3-1.cdninstagram.com/v/t51...</td>\n",
              "      <td>['Kamianske', 'Ukraine']</td>\n",
              "      <td>[Kamianske, Ukraine]</td>\n",
              "      <td>48.523117</td>\n",
              "      <td>34.613683</td>\n",
              "      <td>Kamianske</td>\n",
              "      <td>Kamianske</td>\n",
              "      <td>Ukraine</td>\n",
              "      <td>51900</td>\n",
              "      <td>Dnipropetrovsk Oblast</td>\n",
              "      <td>Dnipropetrovsk Oblast</td>\n",
              "      <td>@timo_levin wall in Kamianske, Ukraine 🇺🇦(2021...</td>\n",
              "      <td>['timo_levin', 'wall', 'Kamianske', ',', 'Ukra...</td>\n",
              "      <td>@timo_levin</td>\n",
              "    </tr>\n",
              "    <tr>\n",
              "      <th>1</th>\n",
              "      <td>@jr wall in Paris, France 🇫🇷 (2021)#jr</td>\n",
              "      <td>46.0</td>\n",
              "      <td>6517.0</td>\n",
              "      <td>https://scontent-bos3-1.cdninstagram.com/v/t51...</td>\n",
              "      <td>['Paris', 'France']</td>\n",
              "      <td>[Paris, France]</td>\n",
              "      <td>48.856614</td>\n",
              "      <td>2.352222</td>\n",
              "      <td>Paris</td>\n",
              "      <td>Paris</td>\n",
              "      <td>France</td>\n",
              "      <td>None</td>\n",
              "      <td>Île-de-France</td>\n",
              "      <td>IDF</td>\n",
              "      <td>@jr wall in Paris, France 🇫🇷 (2021)#jr</td>\n",
              "      <td>['jr', 'wall', 'Paris', ',', 'France', '🇫🇷', '...</td>\n",
              "      <td>@jr</td>\n",
              "    </tr>\n",
              "    <tr>\n",
              "      <th>2</th>\n",
              "      <td>@3ttman wall in Lodz, Poland 🇵🇱(2013)#3ttman</td>\n",
              "      <td>37.0</td>\n",
              "      <td>5589.0</td>\n",
              "      <td>https://scontent-bos3-1.cdninstagram.com/v/t51...</td>\n",
              "      <td>['Lodz', 'Poland']</td>\n",
              "      <td>[Lodz, Poland]</td>\n",
              "      <td>51.759248</td>\n",
              "      <td>19.455983</td>\n",
              "      <td>Łódź</td>\n",
              "      <td>Łódź</td>\n",
              "      <td>Poland</td>\n",
              "      <td>91</td>\n",
              "      <td>Łódź Voivodeship</td>\n",
              "      <td>Łódź Voivodeship</td>\n",
              "      <td>@3ttman wall in Lodz, Poland 🇵🇱(2013)#3ttman</td>\n",
              "      <td>['3ttman', 'wall', 'Lodz', ',', 'Poland', '🇵🇱'...</td>\n",
              "      <td>@3ttman</td>\n",
              "    </tr>\n",
              "    <tr>\n",
              "      <th>3</th>\n",
              "      <td>@jessieandkatey wall in Philadelphia, USA 🇺🇸 (...</td>\n",
              "      <td>31.0</td>\n",
              "      <td>5188.0</td>\n",
              "      <td>https://scontent-bos3-1.cdninstagram.com/v/t51...</td>\n",
              "      <td>['Philadelphia', 'USA']</td>\n",
              "      <td>[Philadelphia, USA]</td>\n",
              "      <td>39.952584</td>\n",
              "      <td>-75.165222</td>\n",
              "      <td>Philadelphia</td>\n",
              "      <td>Philadelphia</td>\n",
              "      <td>United States</td>\n",
              "      <td>None</td>\n",
              "      <td>Pennsylvania</td>\n",
              "      <td>PA</td>\n",
              "      <td>@jessieandkatey wall in Philadelphia, USA 🇺🇸 (...</td>\n",
              "      <td>['jessieandkatey', 'wall', 'Philadelphia', ','...</td>\n",
              "      <td>@jessieandkatey</td>\n",
              "    </tr>\n",
              "    <tr>\n",
              "      <th>4</th>\n",
              "      <td>@romanlinacero wall in Nava de la Asunción, Se...</td>\n",
              "      <td>24.0</td>\n",
              "      <td>3584.0</td>\n",
              "      <td>https://scontent-bos3-1.cdninstagram.com/v/t51...</td>\n",
              "      <td>['Nava', 'de', 'la', 'Asunción', 'Segovia', 'S...</td>\n",
              "      <td>[Nava, de, la, Asunción, Segovia, Spain]</td>\n",
              "      <td>41.154601</td>\n",
              "      <td>-4.491565</td>\n",
              "      <td>Nava de la Asunción</td>\n",
              "      <td>Nava de la Asunción</td>\n",
              "      <td>Spain</td>\n",
              "      <td>40450</td>\n",
              "      <td>Castile and León</td>\n",
              "      <td>CL</td>\n",
              "      <td>@romanlinacero wall in Nava de la Asunción, Se...</td>\n",
              "      <td>['romanlinacero', 'wall', 'Nava', 'de', 'la', ...</td>\n",
              "      <td>@romanlinacero</td>\n",
              "    </tr>\n",
              "  </tbody>\n",
              "</table>\n",
              "</div>"
            ],
            "text/plain": [
              "                                             Caption  ...     tagged_users\n",
              "0  @timo_levin wall in Kamianske, Ukraine 🇺🇦(2021...  ...      @timo_levin\n",
              "1             @jr wall in Paris, France 🇫🇷 (2021)#jr  ...              @jr\n",
              "2       @3ttman wall in Lodz, Poland 🇵🇱(2013)#3ttman  ...          @3ttman\n",
              "3  @jessieandkatey wall in Philadelphia, USA 🇺🇸 (...  ...  @jessieandkatey\n",
              "4  @romanlinacero wall in Nava de la Asunción, Se...  ...   @romanlinacero\n",
              "\n",
              "[5 rows x 17 columns]"
            ]
          },
          "metadata": {
            "tags": []
          },
          "execution_count": 31
        }
      ]
    },
    {
      "cell_type": "code",
      "metadata": {
        "colab": {
          "base_uri": "https://localhost:8080/",
          "height": 564
        },
        "id": "YP5_w0fdwXn-",
        "outputId": "ce088317-41fe-4c0d-f296-aa1b113febc3"
      },
      "source": [
        "hashtag_df.head()"
      ],
      "execution_count": null,
      "outputs": [
        {
          "output_type": "execute_result",
          "data": {
            "text/html": [
              "<div>\n",
              "<style scoped>\n",
              "    .dataframe tbody tr th:only-of-type {\n",
              "        vertical-align: middle;\n",
              "    }\n",
              "\n",
              "    .dataframe tbody tr th {\n",
              "        vertical-align: top;\n",
              "    }\n",
              "\n",
              "    .dataframe thead th {\n",
              "        text-align: right;\n",
              "    }\n",
              "</style>\n",
              "<table border=\"1\" class=\"dataframe\">\n",
              "  <thead>\n",
              "    <tr style=\"text-align: right;\">\n",
              "      <th></th>\n",
              "      <th>Username_ID</th>\n",
              "      <th>Caption</th>\n",
              "      <th>Comments</th>\n",
              "      <th>Comments_Text</th>\n",
              "      <th>Hashtags_Caption</th>\n",
              "      <th>Likes</th>\n",
              "      <th>Location</th>\n",
              "      <th>Mentions_Caption</th>\n",
              "      <th>Username</th>\n",
              "      <th>Named Entities</th>\n",
              "      <th>Tokenized Entities</th>\n",
              "      <th>lat</th>\n",
              "      <th>lon</th>\n",
              "      <th>Name</th>\n",
              "      <th>Short Name</th>\n",
              "      <th>Country</th>\n",
              "      <th>Postal Code</th>\n",
              "      <th>Administrative Level 1</th>\n",
              "      <th>Administrative Level 1 Short</th>\n",
              "    </tr>\n",
              "  </thead>\n",
              "  <tbody>\n",
              "    <tr>\n",
              "      <th>0</th>\n",
              "      <td>175509226</td>\n",
              "      <td>Happy Friday! I wore this colorful kimono romp...</td>\n",
              "      <td>27</td>\n",
              "      <td>['The cutest romper 😍', 'You’re in my neck of ...</td>\n",
              "      <td>['liketkit', 'ltkunder50', 'ltktravel', 'ltkcu...</td>\n",
              "      <td>46</td>\n",
              "      <td>PostLocation(id=216296668, name='Galveston, Te...</td>\n",
              "      <td>['pinklily', 'gapsmack87', 'shipleydonuts_galv...</td>\n",
              "      <td>pearlsandpigsblog</td>\n",
              "      <td>['Texas', 'texas']</td>\n",
              "      <td>[Texas, texas]</td>\n",
              "      <td>31.9685988</td>\n",
              "      <td>-99.9018131</td>\n",
              "      <td>Texas</td>\n",
              "      <td>TX</td>\n",
              "      <td>United States</td>\n",
              "      <td>None</td>\n",
              "      <td>Texas</td>\n",
              "      <td>TX</td>\n",
              "    </tr>\n",
              "    <tr>\n",
              "      <th>1</th>\n",
              "      <td>1599189434</td>\n",
              "      <td>#mrphotography #gainwithwestandmugweru #gainwi...</td>\n",
              "      <td>20</td>\n",
              "      <td>['😍😍😍', '👏👏👏', '❤️', '❤️❤️❤️', '🔥🔥🔥', '🙌🙌', '❤...</td>\n",
              "      <td>['mrphotography', 'gainwithwestandmugweru', 'g...</td>\n",
              "      <td>20</td>\n",
              "      <td>PostLocation(id=1760813094235018, name='Jhujha...</td>\n",
              "      <td>[]</td>\n",
              "      <td>sameer.choudhary6375</td>\n",
              "      <td>[]</td>\n",
              "      <td>[]</td>\n",
              "      <td>None</td>\n",
              "      <td>None</td>\n",
              "      <td>None</td>\n",
              "      <td>None</td>\n",
              "      <td>None</td>\n",
              "      <td>None</td>\n",
              "      <td>None</td>\n",
              "      <td>None</td>\n",
              "    </tr>\n",
              "    <tr>\n",
              "      <th>2</th>\n",
              "      <td>2491624</td>\n",
              "      <td>@antoniopelayo x @isaacpelayo \\n\\nEdition of 5...</td>\n",
              "      <td>18</td>\n",
              "      <td>['#isaacpelayo #antoniopelayo #dope #love #art...</td>\n",
              "      <td>[]</td>\n",
              "      <td>248</td>\n",
              "      <td>PostLocation(id=212999109, name='Los Angeles, ...</td>\n",
              "      <td>['antoniopelayo', 'isaacpelayo']</td>\n",
              "      <td>isaacpelayo</td>\n",
              "      <td>['Angeles', 'California']</td>\n",
              "      <td>[Angeles, California]</td>\n",
              "      <td>34.0522342</td>\n",
              "      <td>-118.2436849</td>\n",
              "      <td>Los Angeles</td>\n",
              "      <td>Los Angeles</td>\n",
              "      <td>United States</td>\n",
              "      <td>None</td>\n",
              "      <td>California</td>\n",
              "      <td>CA</td>\n",
              "    </tr>\n",
              "    <tr>\n",
              "      <th>3</th>\n",
              "      <td>47338304181</td>\n",
              "      <td>#digitalcollage #digitalartwork #digitalcollag...</td>\n",
              "      <td>8</td>\n",
              "      <td>['🤩👌', '👏👏👏😍😍😍', 'Magnifique.👏👏👏👏👏', '🖤✨🤓✨🖤 Fa...</td>\n",
              "      <td>['digitalcollage', 'digitalartwork', 'digitalc...</td>\n",
              "      <td>90</td>\n",
              "      <td>NaN</td>\n",
              "      <td>[]</td>\n",
              "      <td>thedi0nys0s</td>\n",
              "      <td>[]</td>\n",
              "      <td>[]</td>\n",
              "      <td>None</td>\n",
              "      <td>None</td>\n",
              "      <td>None</td>\n",
              "      <td>None</td>\n",
              "      <td>None</td>\n",
              "      <td>None</td>\n",
              "      <td>None</td>\n",
              "      <td>None</td>\n",
              "    </tr>\n",
              "    <tr>\n",
              "      <th>4</th>\n",
              "      <td>40846095404</td>\n",
              "      <td>#gainwithwestandmugweru #gainwithmchina#gainwi...</td>\n",
              "      <td>8</td>\n",
              "      <td>['😘😘😘', '😍😍😍', '😍😍😍', '🔥🔥🔥', '😘😘😘', '❤️❤️❤️', ...</td>\n",
              "      <td>['gainwithwestandmugweru', 'gainwithmchina', '...</td>\n",
              "      <td>8</td>\n",
              "      <td>NaN</td>\n",
              "      <td>[]</td>\n",
              "      <td>soyal_hamza</td>\n",
              "      <td>[]</td>\n",
              "      <td>[]</td>\n",
              "      <td>None</td>\n",
              "      <td>None</td>\n",
              "      <td>None</td>\n",
              "      <td>None</td>\n",
              "      <td>None</td>\n",
              "      <td>None</td>\n",
              "      <td>None</td>\n",
              "      <td>None</td>\n",
              "    </tr>\n",
              "  </tbody>\n",
              "</table>\n",
              "</div>"
            ],
            "text/plain": [
              "   Username_ID  ... Administrative Level 1 Short\n",
              "0    175509226  ...                           TX\n",
              "1   1599189434  ...                         None\n",
              "2      2491624  ...                           CA\n",
              "3  47338304181  ...                         None\n",
              "4  40846095404  ...                         None\n",
              "\n",
              "[5 rows x 19 columns]"
            ]
          },
          "metadata": {
            "tags": []
          },
          "execution_count": 32
        }
      ]
    },
    {
      "cell_type": "markdown",
      "metadata": {
        "id": "U76VN05zzBkM"
      },
      "source": [
        "---"
      ]
    },
    {
      "cell_type": "markdown",
      "metadata": {
        "id": "eOQsfMKOzFqU"
      },
      "source": [
        "### Cleaning the Google vision dataframe to link it back to the pre-processed map DF"
      ]
    },
    {
      "cell_type": "code",
      "metadata": {
        "colab": {
          "base_uri": "https://localhost:8080/"
        },
        "id": "gWo3t7przErr",
        "outputId": "ed7837f1-8db6-469e-a628-72893155da0c"
      },
      "source": [
        "posts_df.columns"
      ],
      "execution_count": null,
      "outputs": [
        {
          "output_type": "execute_result",
          "data": {
            "text/plain": [
              "Index(['Unnamed: 0', 'Caption', 'Comments', 'Likes', 'URL', 'Object_Num',\n",
              "       'Object_0_score', 'Object_1_score', 'Object_2_score', 'Object_3_score',\n",
              "       'Object_4_score', 'Object_5_score', 'Object_6_score', 'Object_7_score',\n",
              "       'Object_8_score', 'Object_9_score', 'Object_0', 'Object_1', 'Object_2',\n",
              "       'Object_3', 'Object_4', 'Object_5', 'Object_6', 'Object_7', 'Object_8',\n",
              "       'Object_9', 'Total_Objects_Names', 'Total_Objects_Scores', 'Label_Num',\n",
              "       'Label_0_score', 'Label_1_score', 'Label_2_score', 'Label_3_score',\n",
              "       'Label_4_score', 'Label_5_score', 'Label_6_score', 'Label_7_score',\n",
              "       'Label_8_score', 'Label_9_score', 'Label_0', 'Label_1', 'Label_2',\n",
              "       'Label_3', 'Label_4', 'Label_5', 'Label_6', 'Label_7', 'Label_8',\n",
              "       'Label_9', 'Labels_Objects_Names', 'Labels_Objects_Scores',\n",
              "       'Engagement'],\n",
              "      dtype='object')"
            ]
          },
          "metadata": {
            "tags": []
          },
          "execution_count": 16
        }
      ]
    },
    {
      "cell_type": "code",
      "metadata": {
        "id": "7sLBt_JwzEJk"
      },
      "source": [
        "postsDF = posts_df[['Caption', 'Comments', 'Likes', 'URL', 'Object_Num', 'Label_0', 'Label_1', 'Label_2','Engagement']]"
      ],
      "execution_count": null,
      "outputs": []
    },
    {
      "cell_type": "code",
      "metadata": {
        "colab": {
          "base_uri": "https://localhost:8080/"
        },
        "id": "SKHadvYVznJe",
        "outputId": "379da37f-2d09-4ada-b221-51253a3e2695"
      },
      "source": [
        "map_df.columns"
      ],
      "execution_count": null,
      "outputs": [
        {
          "output_type": "execute_result",
          "data": {
            "text/plain": [
              "Index(['Caption', 'Comments', 'Likes', 'URL', 'Named Entities',\n",
              "       'Tokenized Entities', 'lat', 'lon', 'Name', 'Short Name', 'Country',\n",
              "       'Postal Code', 'Administrative Level 1', 'Administrative Level 1 Short',\n",
              "       'cleaned_captions', 'tokenized_captions', 'tagged_users'],\n",
              "      dtype='object')"
            ]
          },
          "metadata": {
            "tags": []
          },
          "execution_count": 19
        }
      ]
    },
    {
      "cell_type": "code",
      "metadata": {
        "id": "MuwDe6_Wzo7E"
      },
      "source": [
        "mapDF = map_df[['URL', 'lat', 'lon', 'Short Name', 'Country', 'tagged_users']]"
      ],
      "execution_count": null,
      "outputs": []
    },
    {
      "cell_type": "code",
      "metadata": {
        "colab": {
          "base_uri": "https://localhost:8080/",
          "height": 204
        },
        "id": "SieZLKXt3pAI",
        "outputId": "90f7e5d2-cdd2-49c1-96c3-6c82e84dfa58"
      },
      "source": [
        "## Merging the two dataframes\n",
        "mergedDF = postsDF.merge(mapDF, on='URL', how='right')\n",
        "mergedDF.head()"
      ],
      "execution_count": null,
      "outputs": [
        {
          "output_type": "execute_result",
          "data": {
            "text/html": [
              "<div>\n",
              "<style scoped>\n",
              "    .dataframe tbody tr th:only-of-type {\n",
              "        vertical-align: middle;\n",
              "    }\n",
              "\n",
              "    .dataframe tbody tr th {\n",
              "        vertical-align: top;\n",
              "    }\n",
              "\n",
              "    .dataframe thead th {\n",
              "        text-align: right;\n",
              "    }\n",
              "</style>\n",
              "<table border=\"1\" class=\"dataframe\">\n",
              "  <thead>\n",
              "    <tr style=\"text-align: right;\">\n",
              "      <th></th>\n",
              "      <th>Caption</th>\n",
              "      <th>Comments</th>\n",
              "      <th>Likes</th>\n",
              "      <th>URL</th>\n",
              "      <th>Object_Num</th>\n",
              "      <th>Label_0</th>\n",
              "      <th>Label_1</th>\n",
              "      <th>Label_2</th>\n",
              "      <th>Engagement</th>\n",
              "      <th>lat</th>\n",
              "      <th>lon</th>\n",
              "      <th>Short Name</th>\n",
              "      <th>Country</th>\n",
              "      <th>tagged_users</th>\n",
              "    </tr>\n",
              "  </thead>\n",
              "  <tbody>\n",
              "    <tr>\n",
              "      <th>0</th>\n",
              "      <td>@timo_levin wall in Kamianske, Ukraine 🇺🇦(2021...</td>\n",
              "      <td>11.0</td>\n",
              "      <td>2276.0</td>\n",
              "      <td>https://scontent-bos3-1.cdninstagram.com/v/t51...</td>\n",
              "      <td>1.0</td>\n",
              "      <td>Sky</td>\n",
              "      <td>Cloud</td>\n",
              "      <td>Building</td>\n",
              "      <td>25036.0</td>\n",
              "      <td>48.523117</td>\n",
              "      <td>34.613683</td>\n",
              "      <td>Kamianske</td>\n",
              "      <td>Ukraine</td>\n",
              "      <td>@timo_levin</td>\n",
              "    </tr>\n",
              "    <tr>\n",
              "      <th>1</th>\n",
              "      <td>@jr wall in Paris, France 🇫🇷 (2021)\\n•\\n#jr #u...</td>\n",
              "      <td>46.0</td>\n",
              "      <td>6517.0</td>\n",
              "      <td>https://scontent-bos3-1.cdninstagram.com/v/t51...</td>\n",
              "      <td>4.0</td>\n",
              "      <td>Cloud</td>\n",
              "      <td>Sky</td>\n",
              "      <td>Building</td>\n",
              "      <td>299782.0</td>\n",
              "      <td>48.856614</td>\n",
              "      <td>2.352222</td>\n",
              "      <td>Paris</td>\n",
              "      <td>France</td>\n",
              "      <td>@jr</td>\n",
              "    </tr>\n",
              "    <tr>\n",
              "      <th>2</th>\n",
              "      <td>@3ttman wall in Lodz, Poland 🇵🇱(2013)\\n•\\n#3tt...</td>\n",
              "      <td>37.0</td>\n",
              "      <td>5589.0</td>\n",
              "      <td>https://scontent-bos3-1.cdninstagram.com/v/t51...</td>\n",
              "      <td>3.0</td>\n",
              "      <td>Cloud</td>\n",
              "      <td>Daytime</td>\n",
              "      <td>Sky</td>\n",
              "      <td>206793.0</td>\n",
              "      <td>51.759248</td>\n",
              "      <td>19.455983</td>\n",
              "      <td>Łódź</td>\n",
              "      <td>Poland</td>\n",
              "      <td>@3ttman</td>\n",
              "    </tr>\n",
              "    <tr>\n",
              "      <th>3</th>\n",
              "      <td>@jessieandkatey wall in Philadelphia, USA 🇺🇸 (...</td>\n",
              "      <td>31.0</td>\n",
              "      <td>5188.0</td>\n",
              "      <td>https://scontent-bos3-1.cdninstagram.com/v/t51...</td>\n",
              "      <td>2.0</td>\n",
              "      <td>Cloud</td>\n",
              "      <td>Sky</td>\n",
              "      <td>Building</td>\n",
              "      <td>160828.0</td>\n",
              "      <td>39.952584</td>\n",
              "      <td>-75.165222</td>\n",
              "      <td>Philadelphia</td>\n",
              "      <td>United States</td>\n",
              "      <td>@jessieandkatey</td>\n",
              "    </tr>\n",
              "    <tr>\n",
              "      <th>4</th>\n",
              "      <td>@romanlinacero wall in Nava de la Asunción, Se...</td>\n",
              "      <td>24.0</td>\n",
              "      <td>3584.0</td>\n",
              "      <td>https://scontent-bos3-1.cdninstagram.com/v/t51...</td>\n",
              "      <td>7.0</td>\n",
              "      <td>Sky</td>\n",
              "      <td>Paint</td>\n",
              "      <td>Art</td>\n",
              "      <td>86016.0</td>\n",
              "      <td>41.154601</td>\n",
              "      <td>-4.491565</td>\n",
              "      <td>Nava de la Asunción</td>\n",
              "      <td>Spain</td>\n",
              "      <td>@romanlinacero</td>\n",
              "    </tr>\n",
              "  </tbody>\n",
              "</table>\n",
              "</div>"
            ],
            "text/plain": [
              "                                             Caption  ...     tagged_users\n",
              "0  @timo_levin wall in Kamianske, Ukraine 🇺🇦(2021...  ...      @timo_levin\n",
              "1  @jr wall in Paris, France 🇫🇷 (2021)\\n•\\n#jr #u...  ...              @jr\n",
              "2  @3ttman wall in Lodz, Poland 🇵🇱(2013)\\n•\\n#3tt...  ...          @3ttman\n",
              "3  @jessieandkatey wall in Philadelphia, USA 🇺🇸 (...  ...  @jessieandkatey\n",
              "4  @romanlinacero wall in Nava de la Asunción, Se...  ...   @romanlinacero\n",
              "\n",
              "[5 rows x 14 columns]"
            ]
          },
          "metadata": {
            "tags": []
          },
          "execution_count": 26
        }
      ]
    },
    {
      "cell_type": "code",
      "metadata": {
        "colab": {
          "base_uri": "https://localhost:8080/"
        },
        "id": "2sR90zXA39CQ",
        "outputId": "36f80c70-6692-4b2f-edf3-9befb5494439"
      },
      "source": [
        "mergedDF['lat'].isnull().value_counts() ## this confirms that all rows have longitude and latitude"
      ],
      "execution_count": null,
      "outputs": [
        {
          "output_type": "execute_result",
          "data": {
            "text/plain": [
              "False    1011\n",
              "Name: lat, dtype: int64"
            ]
          },
          "metadata": {
            "tags": []
          },
          "execution_count": 37
        }
      ]
    },
    {
      "cell_type": "markdown",
      "metadata": {
        "id": "uJEqO_E_9T_F"
      },
      "source": [
        "---"
      ]
    },
    {
      "cell_type": "code",
      "metadata": {
        "colab": {
          "base_uri": "https://localhost:8080/"
        },
        "id": "MnFgBckI9Umr",
        "outputId": "ea2668a9-f2a9-4eff-ad91-cbf720b044f8"
      },
      "source": [
        "#Looking at the hashtag DF\n",
        "hashtag_df.columns"
      ],
      "execution_count": null,
      "outputs": [
        {
          "output_type": "execute_result",
          "data": {
            "text/plain": [
              "Index(['Username_ID', 'Caption', 'Comments', 'Comments_Text',\n",
              "       'Hashtags_Caption', 'Likes', 'Location', 'Mentions_Caption', 'Username',\n",
              "       'Named Entities', 'Tokenized Entities', 'lat', 'lon', 'Name',\n",
              "       'Short Name', 'Country', 'Postal Code', 'Administrative Level 1',\n",
              "       'Administrative Level 1 Short'],\n",
              "      dtype='object')"
            ]
          },
          "metadata": {
            "tags": []
          },
          "execution_count": 33
        }
      ]
    },
    {
      "cell_type": "code",
      "metadata": {
        "colab": {
          "base_uri": "https://localhost:8080/",
          "height": 564
        },
        "id": "PAs3i2QR-pUS",
        "outputId": "272aba00-1de2-465d-9300-053c8cb714b6"
      },
      "source": [
        "hashtag_df.head()"
      ],
      "execution_count": null,
      "outputs": [
        {
          "output_type": "execute_result",
          "data": {
            "text/html": [
              "<div>\n",
              "<style scoped>\n",
              "    .dataframe tbody tr th:only-of-type {\n",
              "        vertical-align: middle;\n",
              "    }\n",
              "\n",
              "    .dataframe tbody tr th {\n",
              "        vertical-align: top;\n",
              "    }\n",
              "\n",
              "    .dataframe thead th {\n",
              "        text-align: right;\n",
              "    }\n",
              "</style>\n",
              "<table border=\"1\" class=\"dataframe\">\n",
              "  <thead>\n",
              "    <tr style=\"text-align: right;\">\n",
              "      <th></th>\n",
              "      <th>Username_ID</th>\n",
              "      <th>Caption</th>\n",
              "      <th>Comments</th>\n",
              "      <th>Comments_Text</th>\n",
              "      <th>Hashtags_Caption</th>\n",
              "      <th>Likes</th>\n",
              "      <th>Location</th>\n",
              "      <th>Mentions_Caption</th>\n",
              "      <th>Username</th>\n",
              "      <th>Named Entities</th>\n",
              "      <th>Tokenized Entities</th>\n",
              "      <th>lat</th>\n",
              "      <th>lon</th>\n",
              "      <th>Name</th>\n",
              "      <th>Short Name</th>\n",
              "      <th>Country</th>\n",
              "      <th>Postal Code</th>\n",
              "      <th>Administrative Level 1</th>\n",
              "      <th>Administrative Level 1 Short</th>\n",
              "    </tr>\n",
              "  </thead>\n",
              "  <tbody>\n",
              "    <tr>\n",
              "      <th>0</th>\n",
              "      <td>175509226</td>\n",
              "      <td>Happy Friday! I wore this colorful kimono romp...</td>\n",
              "      <td>27</td>\n",
              "      <td>['The cutest romper 😍', 'You’re in my neck of ...</td>\n",
              "      <td>['liketkit', 'ltkunder50', 'ltktravel', 'ltkcu...</td>\n",
              "      <td>46</td>\n",
              "      <td>PostLocation(id=216296668, name='Galveston, Te...</td>\n",
              "      <td>['pinklily', 'gapsmack87', 'shipleydonuts_galv...</td>\n",
              "      <td>pearlsandpigsblog</td>\n",
              "      <td>['Texas', 'texas']</td>\n",
              "      <td>[Texas, texas]</td>\n",
              "      <td>31.9685988</td>\n",
              "      <td>-99.9018131</td>\n",
              "      <td>Texas</td>\n",
              "      <td>TX</td>\n",
              "      <td>United States</td>\n",
              "      <td>None</td>\n",
              "      <td>Texas</td>\n",
              "      <td>TX</td>\n",
              "    </tr>\n",
              "    <tr>\n",
              "      <th>1</th>\n",
              "      <td>1599189434</td>\n",
              "      <td>#mrphotography #gainwithwestandmugweru #gainwi...</td>\n",
              "      <td>20</td>\n",
              "      <td>['😍😍😍', '👏👏👏', '❤️', '❤️❤️❤️', '🔥🔥🔥', '🙌🙌', '❤...</td>\n",
              "      <td>['mrphotography', 'gainwithwestandmugweru', 'g...</td>\n",
              "      <td>20</td>\n",
              "      <td>PostLocation(id=1760813094235018, name='Jhujha...</td>\n",
              "      <td>[]</td>\n",
              "      <td>sameer.choudhary6375</td>\n",
              "      <td>[]</td>\n",
              "      <td>[]</td>\n",
              "      <td>None</td>\n",
              "      <td>None</td>\n",
              "      <td>None</td>\n",
              "      <td>None</td>\n",
              "      <td>None</td>\n",
              "      <td>None</td>\n",
              "      <td>None</td>\n",
              "      <td>None</td>\n",
              "    </tr>\n",
              "    <tr>\n",
              "      <th>2</th>\n",
              "      <td>2491624</td>\n",
              "      <td>@antoniopelayo x @isaacpelayo \\n\\nEdition of 5...</td>\n",
              "      <td>18</td>\n",
              "      <td>['#isaacpelayo #antoniopelayo #dope #love #art...</td>\n",
              "      <td>[]</td>\n",
              "      <td>248</td>\n",
              "      <td>PostLocation(id=212999109, name='Los Angeles, ...</td>\n",
              "      <td>['antoniopelayo', 'isaacpelayo']</td>\n",
              "      <td>isaacpelayo</td>\n",
              "      <td>['Angeles', 'California']</td>\n",
              "      <td>[Angeles, California]</td>\n",
              "      <td>34.0522342</td>\n",
              "      <td>-118.2436849</td>\n",
              "      <td>Los Angeles</td>\n",
              "      <td>Los Angeles</td>\n",
              "      <td>United States</td>\n",
              "      <td>None</td>\n",
              "      <td>California</td>\n",
              "      <td>CA</td>\n",
              "    </tr>\n",
              "    <tr>\n",
              "      <th>3</th>\n",
              "      <td>47338304181</td>\n",
              "      <td>#digitalcollage #digitalartwork #digitalcollag...</td>\n",
              "      <td>8</td>\n",
              "      <td>['🤩👌', '👏👏👏😍😍😍', 'Magnifique.👏👏👏👏👏', '🖤✨🤓✨🖤 Fa...</td>\n",
              "      <td>['digitalcollage', 'digitalartwork', 'digitalc...</td>\n",
              "      <td>90</td>\n",
              "      <td>NaN</td>\n",
              "      <td>[]</td>\n",
              "      <td>thedi0nys0s</td>\n",
              "      <td>[]</td>\n",
              "      <td>[]</td>\n",
              "      <td>None</td>\n",
              "      <td>None</td>\n",
              "      <td>None</td>\n",
              "      <td>None</td>\n",
              "      <td>None</td>\n",
              "      <td>None</td>\n",
              "      <td>None</td>\n",
              "      <td>None</td>\n",
              "    </tr>\n",
              "    <tr>\n",
              "      <th>4</th>\n",
              "      <td>40846095404</td>\n",
              "      <td>#gainwithwestandmugweru #gainwithmchina#gainwi...</td>\n",
              "      <td>8</td>\n",
              "      <td>['😘😘😘', '😍😍😍', '😍😍😍', '🔥🔥🔥', '😘😘😘', '❤️❤️❤️', ...</td>\n",
              "      <td>['gainwithwestandmugweru', 'gainwithmchina', '...</td>\n",
              "      <td>8</td>\n",
              "      <td>NaN</td>\n",
              "      <td>[]</td>\n",
              "      <td>soyal_hamza</td>\n",
              "      <td>[]</td>\n",
              "      <td>[]</td>\n",
              "      <td>None</td>\n",
              "      <td>None</td>\n",
              "      <td>None</td>\n",
              "      <td>None</td>\n",
              "      <td>None</td>\n",
              "      <td>None</td>\n",
              "      <td>None</td>\n",
              "      <td>None</td>\n",
              "    </tr>\n",
              "  </tbody>\n",
              "</table>\n",
              "</div>"
            ],
            "text/plain": [
              "   Username_ID  ... Administrative Level 1 Short\n",
              "0    175509226  ...                           TX\n",
              "1   1599189434  ...                         None\n",
              "2      2491624  ...                           CA\n",
              "3  47338304181  ...                         None\n",
              "4  40846095404  ...                         None\n",
              "\n",
              "[5 rows x 19 columns]"
            ]
          },
          "metadata": {
            "tags": []
          },
          "execution_count": 38
        }
      ]
    },
    {
      "cell_type": "code",
      "metadata": {
        "id": "91sWhmfg9Wer"
      },
      "source": [
        "hashtagDF = hashtag_df[['Caption', 'Comments', 'Likes', 'Username', 'lat', 'lon', 'Short Name', 'Country']]"
      ],
      "execution_count": null,
      "outputs": []
    },
    {
      "cell_type": "code",
      "metadata": {
        "colab": {
          "base_uri": "https://localhost:8080/"
        },
        "id": "Z-dOjJNF_gbu",
        "outputId": "834f3751-d503-4859-db87-c06a0502c4a4"
      },
      "source": [
        "hashtagDF['Caption'] = hashtagDF['Caption'].astype(str)"
      ],
      "execution_count": null,
      "outputs": [
        {
          "output_type": "stream",
          "text": [
            "/usr/local/lib/python3.7/dist-packages/ipykernel_launcher.py:1: SettingWithCopyWarning: \n",
            "A value is trying to be set on a copy of a slice from a DataFrame.\n",
            "Try using .loc[row_indexer,col_indexer] = value instead\n",
            "\n",
            "See the caveats in the documentation: https://pandas.pydata.org/pandas-docs/stable/user_guide/indexing.html#returning-a-view-versus-a-copy\n",
            "  \"\"\"Entry point for launching an IPython kernel.\n"
          ],
          "name": "stderr"
        }
      ]
    },
    {
      "cell_type": "code",
      "metadata": {
        "id": "DHipj2Rh_Qqz"
      },
      "source": [
        "## Detecting tagged users in hashtag dataset\n",
        "tagged_users = []\n",
        "I = range(len(hashtagDF))\n",
        "\n",
        "for i in I:\n",
        "  full_string = hashtagDF.loc[i, \"Caption\"]\n",
        "  string_caption = full_string.split()\n",
        "  for j in string_caption:\n",
        "    if j.startswith(\"@\"):\n",
        "      tagged = j\n",
        "  if full_string.startswith(\"@\") == True:\n",
        "    tagged_users.append(tagged)\n",
        "  else:\n",
        "    tagged_users.append('no mention')"
      ],
      "execution_count": null,
      "outputs": []
    },
    {
      "cell_type": "code",
      "metadata": {
        "colab": {
          "base_uri": "https://localhost:8080/"
        },
        "id": "htsy8bMr_ZuM",
        "outputId": "11626b50-153b-40d1-f1a5-4681af68d8d2"
      },
      "source": [
        "hashtagDF['tagged_Users'] = tagged_users"
      ],
      "execution_count": null,
      "outputs": [
        {
          "output_type": "stream",
          "text": [
            "/usr/local/lib/python3.7/dist-packages/ipykernel_launcher.py:1: SettingWithCopyWarning: \n",
            "A value is trying to be set on a copy of a slice from a DataFrame.\n",
            "Try using .loc[row_indexer,col_indexer] = value instead\n",
            "\n",
            "See the caveats in the documentation: https://pandas.pydata.org/pandas-docs/stable/user_guide/indexing.html#returning-a-view-versus-a-copy\n",
            "  \"\"\"Entry point for launching an IPython kernel.\n"
          ],
          "name": "stderr"
        }
      ]
    },
    {
      "cell_type": "code",
      "metadata": {
        "colab": {
          "base_uri": "https://localhost:8080/",
          "height": 204
        },
        "id": "x-lKEuCU_24-",
        "outputId": "5016c49c-ed66-40e2-f3e1-58583b5dd6ee"
      },
      "source": [
        "hashtagDF.head()"
      ],
      "execution_count": null,
      "outputs": [
        {
          "output_type": "execute_result",
          "data": {
            "text/html": [
              "<div>\n",
              "<style scoped>\n",
              "    .dataframe tbody tr th:only-of-type {\n",
              "        vertical-align: middle;\n",
              "    }\n",
              "\n",
              "    .dataframe tbody tr th {\n",
              "        vertical-align: top;\n",
              "    }\n",
              "\n",
              "    .dataframe thead th {\n",
              "        text-align: right;\n",
              "    }\n",
              "</style>\n",
              "<table border=\"1\" class=\"dataframe\">\n",
              "  <thead>\n",
              "    <tr style=\"text-align: right;\">\n",
              "      <th></th>\n",
              "      <th>Caption</th>\n",
              "      <th>Comments</th>\n",
              "      <th>Likes</th>\n",
              "      <th>Username</th>\n",
              "      <th>lat</th>\n",
              "      <th>lon</th>\n",
              "      <th>Short Name</th>\n",
              "      <th>Country</th>\n",
              "      <th>tagged_Users</th>\n",
              "    </tr>\n",
              "  </thead>\n",
              "  <tbody>\n",
              "    <tr>\n",
              "      <th>0</th>\n",
              "      <td>Happy Friday! I wore this colorful kimono romp...</td>\n",
              "      <td>27</td>\n",
              "      <td>46</td>\n",
              "      <td>pearlsandpigsblog</td>\n",
              "      <td>31.9685988</td>\n",
              "      <td>-99.9018131</td>\n",
              "      <td>TX</td>\n",
              "      <td>United States</td>\n",
              "      <td>no mention</td>\n",
              "    </tr>\n",
              "    <tr>\n",
              "      <th>1</th>\n",
              "      <td>#mrphotography #gainwithwestandmugweru #gainwi...</td>\n",
              "      <td>20</td>\n",
              "      <td>20</td>\n",
              "      <td>sameer.choudhary6375</td>\n",
              "      <td>None</td>\n",
              "      <td>None</td>\n",
              "      <td>None</td>\n",
              "      <td>None</td>\n",
              "      <td>no mention</td>\n",
              "    </tr>\n",
              "    <tr>\n",
              "      <th>2</th>\n",
              "      <td>@antoniopelayo x @isaacpelayo \\n\\nEdition of 5...</td>\n",
              "      <td>18</td>\n",
              "      <td>248</td>\n",
              "      <td>isaacpelayo</td>\n",
              "      <td>34.0522342</td>\n",
              "      <td>-118.2436849</td>\n",
              "      <td>Los Angeles</td>\n",
              "      <td>United States</td>\n",
              "      <td>@isaacpelayo</td>\n",
              "    </tr>\n",
              "    <tr>\n",
              "      <th>3</th>\n",
              "      <td>#digitalcollage #digitalartwork #digitalcollag...</td>\n",
              "      <td>8</td>\n",
              "      <td>90</td>\n",
              "      <td>thedi0nys0s</td>\n",
              "      <td>None</td>\n",
              "      <td>None</td>\n",
              "      <td>None</td>\n",
              "      <td>None</td>\n",
              "      <td>no mention</td>\n",
              "    </tr>\n",
              "    <tr>\n",
              "      <th>4</th>\n",
              "      <td>#gainwithwestandmugweru #gainwithmchina#gainwi...</td>\n",
              "      <td>8</td>\n",
              "      <td>8</td>\n",
              "      <td>soyal_hamza</td>\n",
              "      <td>None</td>\n",
              "      <td>None</td>\n",
              "      <td>None</td>\n",
              "      <td>None</td>\n",
              "      <td>no mention</td>\n",
              "    </tr>\n",
              "  </tbody>\n",
              "</table>\n",
              "</div>"
            ],
            "text/plain": [
              "                                             Caption  ...  tagged_Users\n",
              "0  Happy Friday! I wore this colorful kimono romp...  ...    no mention\n",
              "1  #mrphotography #gainwithwestandmugweru #gainwi...  ...    no mention\n",
              "2  @antoniopelayo x @isaacpelayo \\n\\nEdition of 5...  ...  @isaacpelayo\n",
              "3  #digitalcollage #digitalartwork #digitalcollag...  ...    no mention\n",
              "4  #gainwithwestandmugweru #gainwithmchina#gainwi...  ...    no mention\n",
              "\n",
              "[5 rows x 9 columns]"
            ]
          },
          "metadata": {
            "tags": []
          },
          "execution_count": 62
        }
      ]
    },
    {
      "cell_type": "code",
      "metadata": {
        "colab": {
          "base_uri": "https://localhost:8080/"
        },
        "id": "lPu-2kUX_4pk",
        "outputId": "8fefa92f-1c70-4478-f528-b3d1e05dacc2"
      },
      "source": [
        "#Removing posts without location\n",
        "hashtagDF.dropna(subset = [\"lat\"], inplace=True)"
      ],
      "execution_count": null,
      "outputs": [
        {
          "output_type": "stream",
          "text": [
            "/usr/local/lib/python3.7/dist-packages/ipykernel_launcher.py:2: SettingWithCopyWarning: \n",
            "A value is trying to be set on a copy of a slice from a DataFrame\n",
            "\n",
            "See the caveats in the documentation: https://pandas.pydata.org/pandas-docs/stable/user_guide/indexing.html#returning-a-view-versus-a-copy\n",
            "  \n"
          ],
          "name": "stderr"
        }
      ]
    },
    {
      "cell_type": "code",
      "metadata": {
        "id": "HgwicL67_8M0"
      },
      "source": [
        "hashtagDF = hashtagDF[hashtagDF['lat'] != 'None']"
      ],
      "execution_count": null,
      "outputs": []
    },
    {
      "cell_type": "code",
      "metadata": {
        "colab": {
          "base_uri": "https://localhost:8080/",
          "height": 204
        },
        "id": "L2CbMqbXAxI1",
        "outputId": "af8e1cc7-19d8-458d-9c30-90974a8d0cdd"
      },
      "source": [
        "hashtagDF.head()"
      ],
      "execution_count": null,
      "outputs": [
        {
          "output_type": "execute_result",
          "data": {
            "text/html": [
              "<div>\n",
              "<style scoped>\n",
              "    .dataframe tbody tr th:only-of-type {\n",
              "        vertical-align: middle;\n",
              "    }\n",
              "\n",
              "    .dataframe tbody tr th {\n",
              "        vertical-align: top;\n",
              "    }\n",
              "\n",
              "    .dataframe thead th {\n",
              "        text-align: right;\n",
              "    }\n",
              "</style>\n",
              "<table border=\"1\" class=\"dataframe\">\n",
              "  <thead>\n",
              "    <tr style=\"text-align: right;\">\n",
              "      <th></th>\n",
              "      <th>Caption</th>\n",
              "      <th>Comments</th>\n",
              "      <th>Likes</th>\n",
              "      <th>Username</th>\n",
              "      <th>lat</th>\n",
              "      <th>lon</th>\n",
              "      <th>Short Name</th>\n",
              "      <th>Country</th>\n",
              "      <th>tagged_Users</th>\n",
              "    </tr>\n",
              "  </thead>\n",
              "  <tbody>\n",
              "    <tr>\n",
              "      <th>0</th>\n",
              "      <td>Happy Friday! I wore this colorful kimono romp...</td>\n",
              "      <td>27</td>\n",
              "      <td>46</td>\n",
              "      <td>pearlsandpigsblog</td>\n",
              "      <td>31.9685988</td>\n",
              "      <td>-99.9018131</td>\n",
              "      <td>TX</td>\n",
              "      <td>United States</td>\n",
              "      <td>no mention</td>\n",
              "    </tr>\n",
              "    <tr>\n",
              "      <th>2</th>\n",
              "      <td>@antoniopelayo x @isaacpelayo \\n\\nEdition of 5...</td>\n",
              "      <td>18</td>\n",
              "      <td>248</td>\n",
              "      <td>isaacpelayo</td>\n",
              "      <td>34.0522342</td>\n",
              "      <td>-118.2436849</td>\n",
              "      <td>Los Angeles</td>\n",
              "      <td>United States</td>\n",
              "      <td>@isaacpelayo</td>\n",
              "    </tr>\n",
              "    <tr>\n",
              "      <th>5</th>\n",
              "      <td>#balochisong💙💚❤ #karachipakistan🇵🇰 \\n#kingofmy...</td>\n",
              "      <td>7</td>\n",
              "      <td>29</td>\n",
              "      <td>maryam_baloshi2</td>\n",
              "      <td>37.5048794</td>\n",
              "      <td>-122.2594344</td>\n",
              "      <td>716</td>\n",
              "      <td>United States</td>\n",
              "      <td>no mention</td>\n",
              "    </tr>\n",
              "    <tr>\n",
              "      <th>6</th>\n",
              "      <td>קפצה להגיד שלום בסט @shaharlaz\\nפוסט אחרון למא...</td>\n",
              "      <td>6</td>\n",
              "      <td>24</td>\n",
              "      <td>sapir_anaki88</td>\n",
              "      <td>32.0852999</td>\n",
              "      <td>34.78176759999999</td>\n",
              "      <td>Tel Aviv-Yafo</td>\n",
              "      <td>Israel</td>\n",
              "      <td>no mention</td>\n",
              "    </tr>\n",
              "    <tr>\n",
              "      <th>9</th>\n",
              "      <td>Mural 3: Iron Paradise\\n.\\nAnother big paintin...</td>\n",
              "      <td>5</td>\n",
              "      <td>17</td>\n",
              "      <td>clarkdef</td>\n",
              "      <td>39.6356048</td>\n",
              "      <td>-84.931071</td>\n",
              "      <td>Liberty</td>\n",
              "      <td>United States</td>\n",
              "      <td>no mention</td>\n",
              "    </tr>\n",
              "  </tbody>\n",
              "</table>\n",
              "</div>"
            ],
            "text/plain": [
              "                                             Caption  ...  tagged_Users\n",
              "0  Happy Friday! I wore this colorful kimono romp...  ...    no mention\n",
              "2  @antoniopelayo x @isaacpelayo \\n\\nEdition of 5...  ...  @isaacpelayo\n",
              "5  #balochisong💙💚❤ #karachipakistan🇵🇰 \\n#kingofmy...  ...    no mention\n",
              "6  קפצה להגיד שלום בסט @shaharlaz\\nפוסט אחרון למא...  ...    no mention\n",
              "9  Mural 3: Iron Paradise\\n.\\nAnother big paintin...  ...    no mention\n",
              "\n",
              "[5 rows x 9 columns]"
            ]
          },
          "metadata": {
            "tags": []
          },
          "execution_count": 70
        }
      ]
    },
    {
      "cell_type": "markdown",
      "metadata": {
        "id": "TaB856KiCBQt"
      },
      "source": [
        "---"
      ]
    },
    {
      "cell_type": "markdown",
      "metadata": {
        "id": "q7L-qLaACCQY"
      },
      "source": [
        "## Exporting dataframes"
      ]
    },
    {
      "cell_type": "code",
      "metadata": {
        "colab": {
          "base_uri": "https://localhost:8080/",
          "height": 17
        },
        "id": "FnPwg4LPBOfU",
        "outputId": "f40c0c30-a215-4bcf-e88b-10ac88ec04ec"
      },
      "source": [
        "from google.colab import files\n",
        "mergedDF.to_csv('mergedDF.csv', index = False) \n",
        "files.download('mergedDF.csv')"
      ],
      "execution_count": null,
      "outputs": [
        {
          "output_type": "display_data",
          "data": {
            "application/javascript": [
              "\n",
              "    async function download(id, filename, size) {\n",
              "      if (!google.colab.kernel.accessAllowed) {\n",
              "        return;\n",
              "      }\n",
              "      const div = document.createElement('div');\n",
              "      const label = document.createElement('label');\n",
              "      label.textContent = `Downloading \"${filename}\": `;\n",
              "      div.appendChild(label);\n",
              "      const progress = document.createElement('progress');\n",
              "      progress.max = size;\n",
              "      div.appendChild(progress);\n",
              "      document.body.appendChild(div);\n",
              "\n",
              "      const buffers = [];\n",
              "      let downloaded = 0;\n",
              "\n",
              "      const channel = await google.colab.kernel.comms.open(id);\n",
              "      // Send a message to notify the kernel that we're ready.\n",
              "      channel.send({})\n",
              "\n",
              "      for await (const message of channel.messages) {\n",
              "        // Send a message to notify the kernel that we're ready.\n",
              "        channel.send({})\n",
              "        if (message.buffers) {\n",
              "          for (const buffer of message.buffers) {\n",
              "            buffers.push(buffer);\n",
              "            downloaded += buffer.byteLength;\n",
              "            progress.value = downloaded;\n",
              "          }\n",
              "        }\n",
              "      }\n",
              "      const blob = new Blob(buffers, {type: 'application/binary'});\n",
              "      const a = document.createElement('a');\n",
              "      a.href = window.URL.createObjectURL(blob);\n",
              "      a.download = filename;\n",
              "      div.appendChild(a);\n",
              "      a.click();\n",
              "      div.remove();\n",
              "    }\n",
              "  "
            ],
            "text/plain": [
              "<IPython.core.display.Javascript object>"
            ]
          },
          "metadata": {
            "tags": []
          }
        },
        {
          "output_type": "display_data",
          "data": {
            "application/javascript": [
              "download(\"download_c81fcf05-fd51-4a91-9df2-a0665a55596f\", \"mergedDF.csv\", 575432)"
            ],
            "text/plain": [
              "<IPython.core.display.Javascript object>"
            ]
          },
          "metadata": {
            "tags": []
          }
        }
      ]
    },
    {
      "cell_type": "code",
      "metadata": {
        "colab": {
          "base_uri": "https://localhost:8080/",
          "height": 17
        },
        "id": "oLbjGYUyCJKz",
        "outputId": "ca1d10a4-da1d-45e9-d967-ef618ff84ccd"
      },
      "source": [
        "hashtagDF.to_csv('hashtagDF.csv', index = False) \n",
        "files.download('hashtagDF.csv')"
      ],
      "execution_count": null,
      "outputs": [
        {
          "output_type": "display_data",
          "data": {
            "application/javascript": [
              "\n",
              "    async function download(id, filename, size) {\n",
              "      if (!google.colab.kernel.accessAllowed) {\n",
              "        return;\n",
              "      }\n",
              "      const div = document.createElement('div');\n",
              "      const label = document.createElement('label');\n",
              "      label.textContent = `Downloading \"${filename}\": `;\n",
              "      div.appendChild(label);\n",
              "      const progress = document.createElement('progress');\n",
              "      progress.max = size;\n",
              "      div.appendChild(progress);\n",
              "      document.body.appendChild(div);\n",
              "\n",
              "      const buffers = [];\n",
              "      let downloaded = 0;\n",
              "\n",
              "      const channel = await google.colab.kernel.comms.open(id);\n",
              "      // Send a message to notify the kernel that we're ready.\n",
              "      channel.send({})\n",
              "\n",
              "      for await (const message of channel.messages) {\n",
              "        // Send a message to notify the kernel that we're ready.\n",
              "        channel.send({})\n",
              "        if (message.buffers) {\n",
              "          for (const buffer of message.buffers) {\n",
              "            buffers.push(buffer);\n",
              "            downloaded += buffer.byteLength;\n",
              "            progress.value = downloaded;\n",
              "          }\n",
              "        }\n",
              "      }\n",
              "      const blob = new Blob(buffers, {type: 'application/binary'});\n",
              "      const a = document.createElement('a');\n",
              "      a.href = window.URL.createObjectURL(blob);\n",
              "      a.download = filename;\n",
              "      div.appendChild(a);\n",
              "      a.click();\n",
              "      div.remove();\n",
              "    }\n",
              "  "
            ],
            "text/plain": [
              "<IPython.core.display.Javascript object>"
            ]
          },
          "metadata": {
            "tags": []
          }
        },
        {
          "output_type": "display_data",
          "data": {
            "application/javascript": [
              "download(\"download_4d661f6c-7608-4f43-9ec6-da8dff05be95\", \"hashtagDF.csv\", 188343)"
            ],
            "text/plain": [
              "<IPython.core.display.Javascript object>"
            ]
          },
          "metadata": {
            "tags": []
          }
        }
      ]
    }
  ]
}