{
  "nbformat": 4,
  "nbformat_minor": 0,
  "metadata": {
    "kernelspec": {
      "display_name": "Python 3",
      "language": "python",
      "name": "python3"
    },
    "language_info": {
      "codemirror_mode": {
        "name": "ipython",
        "version": 3
      },
      "file_extension": ".py",
      "mimetype": "text/x-python",
      "name": "python",
      "nbconvert_exporter": "python",
      "pygments_lexer": "ipython3",
      "version": "3.8.5"
    },
    "colab": {
      "name": "6.Creating_Google_Vision_Dataset.ipynb",
      "provenance": []
    }
  },
  "cells": [
    {
      "cell_type": "markdown",
      "metadata": {
        "id": "RsZ4Sysmbi0n"
      },
      "source": [
        "# Google Vision Dataset"
      ]
    },
    {
      "cell_type": "markdown",
      "metadata": {
        "id": "N4HlEYVdbi0u"
      },
      "source": [
        "For this project, we aim to create a regression model to better understand the characteristics that feed into a successful mural. In order to do this, we had to extract images and labels of instagram posts. This notebook showcases the process of creating the dataset for this model."
      ]
    },
    {
      "cell_type": "markdown",
      "metadata": {
        "id": "d3iAa6CQbi0v"
      },
      "source": [
        "## Uploading Dataframe"
      ]
    },
    {
      "cell_type": "code",
      "metadata": {
        "id": "wO6PqXabbi0w"
      },
      "source": [
        "import pandas as pd\n",
        "import numpy as np\n",
        "from matplotlib import pyplot as plt\n",
        "\n",
        "#Uploading datasets \n",
        "\n",
        "Ig_1 = pd.read_csv('https://github.com/mariasohail2/Social_Media_Analytics/raw/main/instagram1.csv')\n",
        "Ig_2 = pd.read_csv('https://github.com/mariasohail2/Social_Media_Analytics/raw/main/instagram2.csv')"
      ],
      "execution_count": null,
      "outputs": []
    },
    {
      "cell_type": "markdown",
      "metadata": {
        "id": "7IOr3Z7wbi0y"
      },
      "source": [
        "To perform our analysis and create the dashboard, we used two datasets retrieved from Instaloader. In the first dataset, our focus was to scrape comments linked from posts related to popular mural hashtags like #urbanart, #mural and #streetart. The second dataset contained posts and their corresponding captions from two prominent urban art accounts."
      ]
    },
    {
      "cell_type": "code",
      "metadata": {
        "id": "QSDJWFMFbi0y",
        "outputId": "31aa64ba-108a-4bd9-8793-b2cfc8792cf6"
      },
      "source": [
        "Ig_1.head(5)"
      ],
      "execution_count": null,
      "outputs": [
        {
          "output_type": "execute_result",
          "data": {
            "text/html": [
              "<div>\n",
              "<style scoped>\n",
              "    .dataframe tbody tr th:only-of-type {\n",
              "        vertical-align: middle;\n",
              "    }\n",
              "\n",
              "    .dataframe tbody tr th {\n",
              "        vertical-align: top;\n",
              "    }\n",
              "\n",
              "    .dataframe thead th {\n",
              "        text-align: right;\n",
              "    }\n",
              "</style>\n",
              "<table border=\"1\" class=\"dataframe\">\n",
              "  <thead>\n",
              "    <tr style=\"text-align: right;\">\n",
              "      <th></th>\n",
              "      <th>Unnamed: 0</th>\n",
              "      <th>Caption</th>\n",
              "      <th>Comments</th>\n",
              "      <th>Likes</th>\n",
              "      <th>URL</th>\n",
              "    </tr>\n",
              "  </thead>\n",
              "  <tbody>\n",
              "    <tr>\n",
              "      <th>0</th>\n",
              "      <td>0</td>\n",
              "      <td>“Always Stay Hungry” - work by @sasha.korban f...</td>\n",
              "      <td>3.0</td>\n",
              "      <td>175.0</td>\n",
              "      <td>https://scontent-atl3-1.cdninstagram.com/v/t51...</td>\n",
              "    </tr>\n",
              "    <tr>\n",
              "      <th>1</th>\n",
              "      <td>1</td>\n",
              "      <td>Work by @ronenglish on the famed Houston Bower...</td>\n",
              "      <td>2.0</td>\n",
              "      <td>115.0</td>\n",
              "      <td>https://scontent-atl3-1.cdninstagram.com/v/t51...</td>\n",
              "    </tr>\n",
              "    <tr>\n",
              "      <th>2</th>\n",
              "      <td>2</td>\n",
              "      <td>New work by @invaderwashere in Slovenia. 👾</td>\n",
              "      <td>2.0</td>\n",
              "      <td>111.0</td>\n",
              "      <td>https://scontent-atl3-1.cdninstagram.com/v/t51...</td>\n",
              "    </tr>\n",
              "    <tr>\n",
              "      <th>3</th>\n",
              "      <td>3</td>\n",
              "      <td>Work by @davidzinn in Ann Arbor, Michigan.</td>\n",
              "      <td>30.0</td>\n",
              "      <td>3289.0</td>\n",
              "      <td>https://scontent-atl3-1.cdninstagram.com/v/t51...</td>\n",
              "    </tr>\n",
              "    <tr>\n",
              "      <th>4</th>\n",
              "      <td>4</td>\n",
              "      <td>“Touché, coulé” - new work by @matth.velvet in...</td>\n",
              "      <td>2.0</td>\n",
              "      <td>189.0</td>\n",
              "      <td>https://scontent-atl3-1.cdninstagram.com/v/t51...</td>\n",
              "    </tr>\n",
              "  </tbody>\n",
              "</table>\n",
              "</div>"
            ],
            "text/plain": [
              "   Unnamed: 0                                            Caption  Comments  \\\n",
              "0           0  “Always Stay Hungry” - work by @sasha.korban f...       3.0   \n",
              "1           1  Work by @ronenglish on the famed Houston Bower...       2.0   \n",
              "2           2         New work by @invaderwashere in Slovenia. 👾       2.0   \n",
              "3           3         Work by @davidzinn in Ann Arbor, Michigan.      30.0   \n",
              "4           4  “Touché, coulé” - new work by @matth.velvet in...       2.0   \n",
              "\n",
              "    Likes                                                URL  \n",
              "0   175.0  https://scontent-atl3-1.cdninstagram.com/v/t51...  \n",
              "1   115.0  https://scontent-atl3-1.cdninstagram.com/v/t51...  \n",
              "2   111.0  https://scontent-atl3-1.cdninstagram.com/v/t51...  \n",
              "3  3289.0  https://scontent-atl3-1.cdninstagram.com/v/t51...  \n",
              "4   189.0  https://scontent-atl3-1.cdninstagram.com/v/t51...  "
            ]
          },
          "metadata": {
            "tags": []
          },
          "execution_count": 2
        }
      ]
    },
    {
      "cell_type": "code",
      "metadata": {
        "id": "XnioV9hIbi00",
        "outputId": "bfdd6955-6cf3-4fdd-c7ff-7d40fed56243"
      },
      "source": [
        "Ig_2.head(5)"
      ],
      "execution_count": null,
      "outputs": [
        {
          "output_type": "execute_result",
          "data": {
            "text/html": [
              "<div>\n",
              "<style scoped>\n",
              "    .dataframe tbody tr th:only-of-type {\n",
              "        vertical-align: middle;\n",
              "    }\n",
              "\n",
              "    .dataframe tbody tr th {\n",
              "        vertical-align: top;\n",
              "    }\n",
              "\n",
              "    .dataframe thead th {\n",
              "        text-align: right;\n",
              "    }\n",
              "</style>\n",
              "<table border=\"1\" class=\"dataframe\">\n",
              "  <thead>\n",
              "    <tr style=\"text-align: right;\">\n",
              "      <th></th>\n",
              "      <th>Unnamed: 0</th>\n",
              "      <th>Caption</th>\n",
              "      <th>Comments</th>\n",
              "      <th>Likes</th>\n",
              "      <th>URL</th>\n",
              "    </tr>\n",
              "  </thead>\n",
              "  <tbody>\n",
              "    <tr>\n",
              "      <th>0</th>\n",
              "      <td>0</td>\n",
              "      <td>@timo_levin wall in Kamianske, Ukraine 🇺🇦(2021...</td>\n",
              "      <td>11.0</td>\n",
              "      <td>2276.0</td>\n",
              "      <td>https://scontent-bos3-1.cdninstagram.com/v/t51...</td>\n",
              "    </tr>\n",
              "    <tr>\n",
              "      <th>1</th>\n",
              "      <td>1</td>\n",
              "      <td>@jr wall in Paris, France 🇫🇷 (2021)\\n•\\n#jr #u...</td>\n",
              "      <td>46.0</td>\n",
              "      <td>6517.0</td>\n",
              "      <td>https://scontent-bos3-1.cdninstagram.com/v/t51...</td>\n",
              "    </tr>\n",
              "    <tr>\n",
              "      <th>2</th>\n",
              "      <td>2</td>\n",
              "      <td>@3ttman wall in Lodz, Poland 🇵🇱(2013)\\n•\\n#3tt...</td>\n",
              "      <td>37.0</td>\n",
              "      <td>5589.0</td>\n",
              "      <td>https://scontent-bos3-1.cdninstagram.com/v/t51...</td>\n",
              "    </tr>\n",
              "    <tr>\n",
              "      <th>3</th>\n",
              "      <td>3</td>\n",
              "      <td>@jessieandkatey wall in Philadelphia, USA 🇺🇸 (...</td>\n",
              "      <td>31.0</td>\n",
              "      <td>5188.0</td>\n",
              "      <td>https://scontent-bos3-1.cdninstagram.com/v/t51...</td>\n",
              "    </tr>\n",
              "    <tr>\n",
              "      <th>4</th>\n",
              "      <td>4</td>\n",
              "      <td>@romanlinacero wall in Nava de la Asunción, Se...</td>\n",
              "      <td>24.0</td>\n",
              "      <td>3584.0</td>\n",
              "      <td>https://scontent-bos3-1.cdninstagram.com/v/t51...</td>\n",
              "    </tr>\n",
              "  </tbody>\n",
              "</table>\n",
              "</div>"
            ],
            "text/plain": [
              "   Unnamed: 0                                            Caption  Comments  \\\n",
              "0           0  @timo_levin wall in Kamianske, Ukraine 🇺🇦(2021...      11.0   \n",
              "1           1  @jr wall in Paris, France 🇫🇷 (2021)\\n•\\n#jr #u...      46.0   \n",
              "2           2  @3ttman wall in Lodz, Poland 🇵🇱(2013)\\n•\\n#3tt...      37.0   \n",
              "3           3  @jessieandkatey wall in Philadelphia, USA 🇺🇸 (...      31.0   \n",
              "4           4  @romanlinacero wall in Nava de la Asunción, Se...      24.0   \n",
              "\n",
              "    Likes                                                URL  \n",
              "0  2276.0  https://scontent-bos3-1.cdninstagram.com/v/t51...  \n",
              "1  6517.0  https://scontent-bos3-1.cdninstagram.com/v/t51...  \n",
              "2  5589.0  https://scontent-bos3-1.cdninstagram.com/v/t51...  \n",
              "3  5188.0  https://scontent-bos3-1.cdninstagram.com/v/t51...  \n",
              "4  3584.0  https://scontent-bos3-1.cdninstagram.com/v/t51...  "
            ]
          },
          "metadata": {
            "tags": []
          },
          "execution_count": 3
        }
      ]
    },
    {
      "cell_type": "code",
      "metadata": {
        "id": "1OwS-J5nbi00",
        "outputId": "06ffff3c-c329-4bb5-905c-479f5bdddde1"
      },
      "source": [
        "#Merging datases into one\n",
        "frames = [Ig_1, Ig_2]\n",
        "Df = pd.concat(frames)\n",
        "Df.head(5)"
      ],
      "execution_count": null,
      "outputs": [
        {
          "output_type": "execute_result",
          "data": {
            "text/html": [
              "<div>\n",
              "<style scoped>\n",
              "    .dataframe tbody tr th:only-of-type {\n",
              "        vertical-align: middle;\n",
              "    }\n",
              "\n",
              "    .dataframe tbody tr th {\n",
              "        vertical-align: top;\n",
              "    }\n",
              "\n",
              "    .dataframe thead th {\n",
              "        text-align: right;\n",
              "    }\n",
              "</style>\n",
              "<table border=\"1\" class=\"dataframe\">\n",
              "  <thead>\n",
              "    <tr style=\"text-align: right;\">\n",
              "      <th></th>\n",
              "      <th>Unnamed: 0</th>\n",
              "      <th>Caption</th>\n",
              "      <th>Comments</th>\n",
              "      <th>Likes</th>\n",
              "      <th>URL</th>\n",
              "    </tr>\n",
              "  </thead>\n",
              "  <tbody>\n",
              "    <tr>\n",
              "      <th>0</th>\n",
              "      <td>0</td>\n",
              "      <td>“Always Stay Hungry” - work by @sasha.korban f...</td>\n",
              "      <td>3.0</td>\n",
              "      <td>175.0</td>\n",
              "      <td>https://scontent-atl3-1.cdninstagram.com/v/t51...</td>\n",
              "    </tr>\n",
              "    <tr>\n",
              "      <th>1</th>\n",
              "      <td>1</td>\n",
              "      <td>Work by @ronenglish on the famed Houston Bower...</td>\n",
              "      <td>2.0</td>\n",
              "      <td>115.0</td>\n",
              "      <td>https://scontent-atl3-1.cdninstagram.com/v/t51...</td>\n",
              "    </tr>\n",
              "    <tr>\n",
              "      <th>2</th>\n",
              "      <td>2</td>\n",
              "      <td>New work by @invaderwashere in Slovenia. 👾</td>\n",
              "      <td>2.0</td>\n",
              "      <td>111.0</td>\n",
              "      <td>https://scontent-atl3-1.cdninstagram.com/v/t51...</td>\n",
              "    </tr>\n",
              "    <tr>\n",
              "      <th>3</th>\n",
              "      <td>3</td>\n",
              "      <td>Work by @davidzinn in Ann Arbor, Michigan.</td>\n",
              "      <td>30.0</td>\n",
              "      <td>3289.0</td>\n",
              "      <td>https://scontent-atl3-1.cdninstagram.com/v/t51...</td>\n",
              "    </tr>\n",
              "    <tr>\n",
              "      <th>4</th>\n",
              "      <td>4</td>\n",
              "      <td>“Touché, coulé” - new work by @matth.velvet in...</td>\n",
              "      <td>2.0</td>\n",
              "      <td>189.0</td>\n",
              "      <td>https://scontent-atl3-1.cdninstagram.com/v/t51...</td>\n",
              "    </tr>\n",
              "  </tbody>\n",
              "</table>\n",
              "</div>"
            ],
            "text/plain": [
              "   Unnamed: 0                                            Caption  Comments  \\\n",
              "0           0  “Always Stay Hungry” - work by @sasha.korban f...       3.0   \n",
              "1           1  Work by @ronenglish on the famed Houston Bower...       2.0   \n",
              "2           2         New work by @invaderwashere in Slovenia. 👾       2.0   \n",
              "3           3         Work by @davidzinn in Ann Arbor, Michigan.      30.0   \n",
              "4           4  “Touché, coulé” - new work by @matth.velvet in...       2.0   \n",
              "\n",
              "    Likes                                                URL  \n",
              "0   175.0  https://scontent-atl3-1.cdninstagram.com/v/t51...  \n",
              "1   115.0  https://scontent-atl3-1.cdninstagram.com/v/t51...  \n",
              "2   111.0  https://scontent-atl3-1.cdninstagram.com/v/t51...  \n",
              "3  3289.0  https://scontent-atl3-1.cdninstagram.com/v/t51...  \n",
              "4   189.0  https://scontent-atl3-1.cdninstagram.com/v/t51...  "
            ]
          },
          "metadata": {
            "tags": []
          },
          "execution_count": 4
        }
      ]
    },
    {
      "cell_type": "markdown",
      "metadata": {
        "id": "dEzElm6Wbi01"
      },
      "source": [
        "For the purpose of this project, we merged these datasets together to have a larger dataset that better encopassed streetart."
      ]
    },
    {
      "cell_type": "markdown",
      "metadata": {
        "id": "_nom6f-gbi01"
      },
      "source": [
        "## Object detection "
      ]
    },
    {
      "cell_type": "markdown",
      "metadata": {
        "id": "0Pljl7wubi01"
      },
      "source": [
        "In this section, we will be extracting the objects identified and their associated scored from Google Vision for each instagram post."
      ]
    },
    {
      "cell_type": "code",
      "metadata": {
        "id": "H36J3wi5bi01"
      },
      "source": [
        "import xlrd\n",
        "from google.cloud import vision\n",
        "import os\n",
        "import pandas as pd\n",
        "\n",
        "Application_Credentials = '/Users/tahreembutt/Desktop/My Project 74932-95eea7d0bd8b.json'\n",
        "os.environ['GOOGLE_APPLICATION_CREDENTIALS'] = Application_Credentials\n",
        "client = vision.ImageAnnotatorClient()\n",
        "image = vision.Image()"
      ],
      "execution_count": null,
      "outputs": []
    },
    {
      "cell_type": "code",
      "metadata": {
        "id": "-F7Dwya0bi02"
      },
      "source": [
        "Df[\"Object_Num\"] = np.nan"
      ],
      "execution_count": null,
      "outputs": []
    },
    {
      "cell_type": "markdown",
      "metadata": {
        "id": "lL4N7MbRbi02"
      },
      "source": [
        "Creating new column to store total number of objects identified per image."
      ]
    },
    {
      "cell_type": "code",
      "metadata": {
        "id": "Gha2qmf6bi03",
        "outputId": "63a30fa8-6fac-43a6-a0a8-3d11b9adb1aa"
      },
      "source": [
        "Df"
      ],
      "execution_count": null,
      "outputs": [
        {
          "output_type": "execute_result",
          "data": {
            "text/html": [
              "<div>\n",
              "<style scoped>\n",
              "    .dataframe tbody tr th:only-of-type {\n",
              "        vertical-align: middle;\n",
              "    }\n",
              "\n",
              "    .dataframe tbody tr th {\n",
              "        vertical-align: top;\n",
              "    }\n",
              "\n",
              "    .dataframe thead th {\n",
              "        text-align: right;\n",
              "    }\n",
              "</style>\n",
              "<table border=\"1\" class=\"dataframe\">\n",
              "  <thead>\n",
              "    <tr style=\"text-align: right;\">\n",
              "      <th></th>\n",
              "      <th>Unnamed: 0</th>\n",
              "      <th>Caption</th>\n",
              "      <th>Comments</th>\n",
              "      <th>Likes</th>\n",
              "      <th>URL</th>\n",
              "      <th>Object_Num</th>\n",
              "    </tr>\n",
              "  </thead>\n",
              "  <tbody>\n",
              "    <tr>\n",
              "      <th>0</th>\n",
              "      <td>0</td>\n",
              "      <td>“Always Stay Hungry” - work by @sasha.korban f...</td>\n",
              "      <td>3.0</td>\n",
              "      <td>175.0</td>\n",
              "      <td>https://scontent-atl3-1.cdninstagram.com/v/t51...</td>\n",
              "      <td>NaN</td>\n",
              "    </tr>\n",
              "    <tr>\n",
              "      <th>1</th>\n",
              "      <td>1</td>\n",
              "      <td>Work by @ronenglish on the famed Houston Bower...</td>\n",
              "      <td>2.0</td>\n",
              "      <td>115.0</td>\n",
              "      <td>https://scontent-atl3-1.cdninstagram.com/v/t51...</td>\n",
              "      <td>NaN</td>\n",
              "    </tr>\n",
              "    <tr>\n",
              "      <th>2</th>\n",
              "      <td>2</td>\n",
              "      <td>New work by @invaderwashere in Slovenia. 👾</td>\n",
              "      <td>2.0</td>\n",
              "      <td>111.0</td>\n",
              "      <td>https://scontent-atl3-1.cdninstagram.com/v/t51...</td>\n",
              "      <td>NaN</td>\n",
              "    </tr>\n",
              "    <tr>\n",
              "      <th>3</th>\n",
              "      <td>3</td>\n",
              "      <td>Work by @davidzinn in Ann Arbor, Michigan.</td>\n",
              "      <td>30.0</td>\n",
              "      <td>3289.0</td>\n",
              "      <td>https://scontent-atl3-1.cdninstagram.com/v/t51...</td>\n",
              "      <td>NaN</td>\n",
              "    </tr>\n",
              "    <tr>\n",
              "      <th>4</th>\n",
              "      <td>4</td>\n",
              "      <td>“Touché, coulé” - new work by @matth.velvet in...</td>\n",
              "      <td>2.0</td>\n",
              "      <td>189.0</td>\n",
              "      <td>https://scontent-atl3-1.cdninstagram.com/v/t51...</td>\n",
              "      <td>NaN</td>\n",
              "    </tr>\n",
              "    <tr>\n",
              "      <th>...</th>\n",
              "      <td>...</td>\n",
              "      <td>...</td>\n",
              "      <td>...</td>\n",
              "      <td>...</td>\n",
              "      <td>...</td>\n",
              "      <td>...</td>\n",
              "    </tr>\n",
              "    <tr>\n",
              "      <th>841</th>\n",
              "      <td>841</td>\n",
              "      <td>@findac wall in Paris, France 🇫🇷(2018)\\n•\\n#fi...</td>\n",
              "      <td>23.0</td>\n",
              "      <td>4403.0</td>\n",
              "      <td>https://scontent-bos3-1.cdninstagram.com/v/t51...</td>\n",
              "      <td>NaN</td>\n",
              "    </tr>\n",
              "    <tr>\n",
              "      <th>842</th>\n",
              "      <td>842</td>\n",
              "      <td>@artofdavidwalker wall in Nancy, France 🇫🇷(201...</td>\n",
              "      <td>62.0</td>\n",
              "      <td>9424.0</td>\n",
              "      <td>https://scontent-bos3-1.cdninstagram.com/v/t51...</td>\n",
              "      <td>NaN</td>\n",
              "    </tr>\n",
              "    <tr>\n",
              "      <th>843</th>\n",
              "      <td>843</td>\n",
              "      <td>@smeetsbart wall in Brussels, Belgium 🇧🇪(2018)...</td>\n",
              "      <td>18.0</td>\n",
              "      <td>3360.0</td>\n",
              "      <td>https://scontent-bos3-1.cdninstagram.com/v/t51...</td>\n",
              "      <td>NaN</td>\n",
              "    </tr>\n",
              "    <tr>\n",
              "      <th>844</th>\n",
              "      <td>844</td>\n",
              "      <td>@fintan_magee wall in Munich, Germany 🇩🇪(2018)...</td>\n",
              "      <td>21.0</td>\n",
              "      <td>2463.0</td>\n",
              "      <td>https://scontent-bos3-1.cdninstagram.com/v/t51...</td>\n",
              "      <td>NaN</td>\n",
              "    </tr>\n",
              "    <tr>\n",
              "      <th>845</th>\n",
              "      <td>845</td>\n",
              "      <td>@seth_globepainter wall in Neuf Brisach, Franc...</td>\n",
              "      <td>23.0</td>\n",
              "      <td>4886.0</td>\n",
              "      <td>https://scontent-bos3-1.cdninstagram.com/v/t51...</td>\n",
              "      <td>NaN</td>\n",
              "    </tr>\n",
              "  </tbody>\n",
              "</table>\n",
              "<p>1098 rows × 6 columns</p>\n",
              "</div>"
            ],
            "text/plain": [
              "     Unnamed: 0                                            Caption  Comments  \\\n",
              "0             0  “Always Stay Hungry” - work by @sasha.korban f...       3.0   \n",
              "1             1  Work by @ronenglish on the famed Houston Bower...       2.0   \n",
              "2             2         New work by @invaderwashere in Slovenia. 👾       2.0   \n",
              "3             3         Work by @davidzinn in Ann Arbor, Michigan.      30.0   \n",
              "4             4  “Touché, coulé” - new work by @matth.velvet in...       2.0   \n",
              "..          ...                                                ...       ...   \n",
              "841         841  @findac wall in Paris, France 🇫🇷(2018)\\n•\\n#fi...      23.0   \n",
              "842         842  @artofdavidwalker wall in Nancy, France 🇫🇷(201...      62.0   \n",
              "843         843  @smeetsbart wall in Brussels, Belgium 🇧🇪(2018)...      18.0   \n",
              "844         844  @fintan_magee wall in Munich, Germany 🇩🇪(2018)...      21.0   \n",
              "845         845  @seth_globepainter wall in Neuf Brisach, Franc...      23.0   \n",
              "\n",
              "      Likes                                                URL  Object_Num  \n",
              "0     175.0  https://scontent-atl3-1.cdninstagram.com/v/t51...         NaN  \n",
              "1     115.0  https://scontent-atl3-1.cdninstagram.com/v/t51...         NaN  \n",
              "2     111.0  https://scontent-atl3-1.cdninstagram.com/v/t51...         NaN  \n",
              "3    3289.0  https://scontent-atl3-1.cdninstagram.com/v/t51...         NaN  \n",
              "4     189.0  https://scontent-atl3-1.cdninstagram.com/v/t51...         NaN  \n",
              "..      ...                                                ...         ...  \n",
              "841  4403.0  https://scontent-bos3-1.cdninstagram.com/v/t51...         NaN  \n",
              "842  9424.0  https://scontent-bos3-1.cdninstagram.com/v/t51...         NaN  \n",
              "843  3360.0  https://scontent-bos3-1.cdninstagram.com/v/t51...         NaN  \n",
              "844  2463.0  https://scontent-bos3-1.cdninstagram.com/v/t51...         NaN  \n",
              "845  4886.0  https://scontent-bos3-1.cdninstagram.com/v/t51...         NaN  \n",
              "\n",
              "[1098 rows x 6 columns]"
            ]
          },
          "metadata": {
            "tags": []
          },
          "execution_count": 9
        }
      ]
    },
    {
      "cell_type": "code",
      "metadata": {
        "id": "g3IMOGLzbi03"
      },
      "source": [
        "for i in range(len(Df)):\n",
        "    a = Df.iloc[i,4]\n",
        "    client = vision.ImageAnnotatorClient()\n",
        "    image = vision.Image()\n",
        "    image.source.image_uri = a\n",
        "    objects = client.object_localization(image=image).localized_object_annotations\n",
        "    Df.iloc[i,5] = len(objects)"
      ],
      "execution_count": null,
      "outputs": []
    },
    {
      "cell_type": "code",
      "metadata": {
        "id": "h70cwCoYbi03"
      },
      "source": [
        "Df[\"Object_Num\"] = Df[\"Object_Num\"].astype(int)"
      ],
      "execution_count": null,
      "outputs": []
    },
    {
      "cell_type": "code",
      "metadata": {
        "id": "nje5g1ytbi03"
      },
      "source": [
        "#Creating columns to store \n",
        "for i in range(int(max(Df[\"Object_Num\"]))):\n",
        "    Df[\"Object_\"+str(i)+\"_score\"] = np.nan\n",
        "\n",
        "for i in range(int(max(Df[\"Object_Num\"]))):\n",
        "    Df[\"Object_\"+str(i)] = np.nan\n",
        "    \n",
        "#Temporary Storage for row object names and score\n",
        "Df[\"Total_Objects_Names\"] = np.nan\n",
        "Df[\"Total_Objects_Scores\"] = np.nan"
      ],
      "execution_count": null,
      "outputs": []
    },
    {
      "cell_type": "code",
      "metadata": {
        "id": "8qt6qf9Vbi04",
        "outputId": "8fd36626-86cb-4cf9-eeac-7a02a0ad339f"
      },
      "source": [
        "for i in range(len(Df)):\n",
        "    a = Df.iloc[i,4] #Link\n",
        "    client = vision.ImageAnnotatorClient()\n",
        "    image = vision.Image()\n",
        "    image.source.image_uri = a\n",
        "    objects = client.object_localization(image=image).localized_object_annotations\n",
        "    Object_List = []\n",
        "    Object_Score = []\n",
        "    for object_ in objects:\n",
        "        Object_List.append(object_.name)\n",
        "        Object_Score.append(str(object_.score))\n",
        "    Df[\"Total_Objects_Names\"].iloc[i] = Object_List\n",
        "    Df[\"Total_Objects_Scores\"].iloc[i] = Object_Score"
      ],
      "execution_count": null,
      "outputs": [
        {
          "output_type": "stream",
          "text": [
            "/Users/tahreembutt/opt/anaconda3/lib/python3.8/site-packages/pandas/core/indexing.py:670: SettingWithCopyWarning: \n",
            "A value is trying to be set on a copy of a slice from a DataFrame\n",
            "\n",
            "See the caveats in the documentation: https://pandas.pydata.org/pandas-docs/stable/user_guide/indexing.html#returning-a-view-versus-a-copy\n",
            "  iloc._setitem_with_indexer(indexer, value)\n"
          ],
          "name": "stderr"
        }
      ]
    },
    {
      "cell_type": "markdown",
      "metadata": {
        "id": "JDDAsCiBbi04"
      },
      "source": [
        "Getting all objects and scores for an image and storing it in one column."
      ]
    },
    {
      "cell_type": "code",
      "metadata": {
        "id": "04zUln-0bi04"
      },
      "source": [
        "#Inputting scores in the correct columns\n",
        "for i in range(len(Df)):\n",
        "    l = Df.iloc[i,27] #List with scores\n",
        "    l = l.strip(\"]\")\n",
        "    l = l.strip(\"[\")\n",
        "    split_list = [] #Storing scores\n",
        "    split_list = l.split(\",\")\n",
        "    Obj_Num = Df.iloc[i,5]\n",
        "    for g in range(Obj_Num):\n",
        "        Df.iloc[i, Df.columns.get_loc(\"Object_\"+str(g)+\"_score\")] = split_list[g]"
      ],
      "execution_count": null,
      "outputs": []
    },
    {
      "cell_type": "markdown",
      "metadata": {
        "id": "tNMFaGOjbi05"
      },
      "source": [
        "Inputting scores in individual columns."
      ]
    },
    {
      "cell_type": "code",
      "metadata": {
        "id": "47i31rU5bi05"
      },
      "source": [
        "#Inputting names in the correct columns\n",
        "for i in range(len(Df)):\n",
        "    l = Df.iloc[i,26] #List with names\n",
        "    l = l.strip(\"]\")\n",
        "    l = l.strip(\"[\")\n",
        "    split_list = [] #Storing names\n",
        "    split_list = l.split(\",\")\n",
        "    Obj_Num = Df.iloc[i,5]\n",
        "    for g in range(Obj_Num):\n",
        "        Df.iloc[i, Df.columns.get_loc(\"Object_\"+str(g))] = split_list[g]"
      ],
      "execution_count": null,
      "outputs": []
    },
    {
      "cell_type": "markdown",
      "metadata": {
        "id": "eiXrWO5rbi05"
      },
      "source": [
        "Inputting names in individual columns."
      ]
    },
    {
      "cell_type": "markdown",
      "metadata": {
        "id": "fivzdyn6bi05"
      },
      "source": [
        "## Label Detection"
      ]
    },
    {
      "cell_type": "markdown",
      "metadata": {
        "id": "l6-LlWIobi05"
      },
      "source": [
        "In this section, we will be extracting the labels identified and their associated scored from Google Vision for each instagram post."
      ]
    },
    {
      "cell_type": "code",
      "metadata": {
        "id": "i-U2AhAMbi06"
      },
      "source": [
        "Df[\"Label_Num\"] = 10"
      ],
      "execution_count": null,
      "outputs": []
    },
    {
      "cell_type": "markdown",
      "metadata": {
        "id": "q2_UfroWbi06"
      },
      "source": [
        "Google Vision always identifies 10 labels per image. "
      ]
    },
    {
      "cell_type": "code",
      "metadata": {
        "id": "3veXAToDbi06"
      },
      "source": [
        "#Creating columns to store \n",
        "for i in range(int(max(Df[\"Label_Num\"]))):\n",
        "    Df[\"Label_\"+str(i)+\"_score\"] = np.nan\n",
        "\n",
        "for i in range(int(max(Df[\"Label_Num\"]))):\n",
        "    Df[\"Label_\"+str(i)] = np.nan\n",
        "    \n",
        "Df[\"Labels_Objects_Names\"] = np.nan\n",
        "Df[\"Labels_Objects_Scores\"] = np.nan"
      ],
      "execution_count": null,
      "outputs": []
    },
    {
      "cell_type": "code",
      "metadata": {
        "id": "G77KD6Iubi06",
        "outputId": "e2efd5ae-711b-4410-d52b-e12f48c73598"
      },
      "source": [
        "for i in range(len(Df)):\n",
        "    a = Df.iloc[i,4]\n",
        "    client = vision.ImageAnnotatorClient()\n",
        "    image = vision.Image()\n",
        "    image.source.image_uri = a\n",
        "    response = client.label_detection(image=image)\n",
        "    labels = response.label_annotations\n",
        "    Labels_List = []\n",
        "    Labels_Score = []\n",
        "    for label in labels:\n",
        "        Labels_List.append(label.description)\n",
        "        Labels_Score.append(str(label.score))\n",
        "    Df[\"Labels_Objects_Names\"].iloc[i] = Labels_List\n",
        "    Df[\"Labels_Objects_Scores\"].iloc[i] = Labels_Score"
      ],
      "execution_count": null,
      "outputs": [
        {
          "output_type": "stream",
          "text": [
            "/Users/tahreembutt/opt/anaconda3/lib/python3.8/site-packages/pandas/core/indexing.py:670: SettingWithCopyWarning: \n",
            "A value is trying to be set on a copy of a slice from a DataFrame\n",
            "\n",
            "See the caveats in the documentation: https://pandas.pydata.org/pandas-docs/stable/user_guide/indexing.html#returning-a-view-versus-a-copy\n",
            "  iloc._setitem_with_indexer(indexer, value)\n"
          ],
          "name": "stderr"
        }
      ]
    },
    {
      "cell_type": "markdown",
      "metadata": {
        "id": "VkXKvE3dbi07"
      },
      "source": [
        "Getting all labels and scores for an image and storing it in one column."
      ]
    },
    {
      "cell_type": "code",
      "metadata": {
        "id": "GnOHYV4dbi07"
      },
      "source": [
        "#Inputting scores in the correct columns\n",
        "for i in range(len(Df)):\n",
        "    l = Df.iloc[i,50] #List with scores\n",
        "    l = l.strip(\"]\")\n",
        "    l = l.strip(\"[\")\n",
        "    split_list = [] #Storing scores\n",
        "    split_list = l.split(\",\")\n",
        "    Label_Num = 10\n",
        "    for g in range(Label_Num):\n",
        "        Df.iloc[i, Df.columns.get_loc(\"Label_\"+str(g)+\"_score\")] = split_list[g]\n"
      ],
      "execution_count": null,
      "outputs": []
    },
    {
      "cell_type": "markdown",
      "metadata": {
        "id": "aWAGkykkbi07"
      },
      "source": [
        "Inputting scores in individual columns."
      ]
    },
    {
      "cell_type": "code",
      "metadata": {
        "id": "Pm-rzd0Ubi07"
      },
      "source": [
        "#Inputting names in the correct columns\n",
        "for i in range(len(Df)):\n",
        "    l = Df.iloc[i,49] #List with names\n",
        "    l = l.strip(\"]\")\n",
        "    l = l.strip(\"[\")\n",
        "    split_list = [] #Storing names\n",
        "    split_list = l.split(\",\")\n",
        "    Obj_Num = 10\n",
        "    for g in range(Obj_Num):\n",
        "        Df.iloc[i, Df.columns.get_loc(\"Label_\"+str(g))] = split_list[g]"
      ],
      "execution_count": null,
      "outputs": []
    },
    {
      "cell_type": "markdown",
      "metadata": {
        "id": "ICsJCawobi08"
      },
      "source": [
        "Inputting labels in individual columns."
      ]
    },
    {
      "cell_type": "code",
      "metadata": {
        "id": "VN-BJW8abi08",
        "outputId": "fcf08a54-9b3d-4340-b6f0-d6ac324d1d23"
      },
      "source": [
        "Df"
      ],
      "execution_count": null,
      "outputs": [
        {
          "output_type": "execute_result",
          "data": {
            "text/html": [
              "<div>\n",
              "<style scoped>\n",
              "    .dataframe tbody tr th:only-of-type {\n",
              "        vertical-align: middle;\n",
              "    }\n",
              "\n",
              "    .dataframe tbody tr th {\n",
              "        vertical-align: top;\n",
              "    }\n",
              "\n",
              "    .dataframe thead th {\n",
              "        text-align: right;\n",
              "    }\n",
              "</style>\n",
              "<table border=\"1\" class=\"dataframe\">\n",
              "  <thead>\n",
              "    <tr style=\"text-align: right;\">\n",
              "      <th></th>\n",
              "      <th>Unnamed: 0</th>\n",
              "      <th>Caption</th>\n",
              "      <th>Comments</th>\n",
              "      <th>Likes</th>\n",
              "      <th>URL</th>\n",
              "      <th>Object_Num</th>\n",
              "      <th>Object_0_score</th>\n",
              "      <th>Object_1_score</th>\n",
              "      <th>Object_2_score</th>\n",
              "      <th>Object_3_score</th>\n",
              "      <th>...</th>\n",
              "      <th>Label_2</th>\n",
              "      <th>Label_3</th>\n",
              "      <th>Label_4</th>\n",
              "      <th>Label_5</th>\n",
              "      <th>Label_6</th>\n",
              "      <th>Label_7</th>\n",
              "      <th>Label_8</th>\n",
              "      <th>Label_9</th>\n",
              "      <th>Labels_Objects_Names</th>\n",
              "      <th>Labels_Objects_Scores</th>\n",
              "    </tr>\n",
              "  </thead>\n",
              "  <tbody>\n",
              "    <tr>\n",
              "      <th>0</th>\n",
              "      <td>0</td>\n",
              "      <td>“Always Stay Hungry” - work by @sasha.korban f...</td>\n",
              "      <td>3</td>\n",
              "      <td>175</td>\n",
              "      <td>https://scontent-atl3-1.cdninstagram.com/v/t51...</td>\n",
              "      <td>2</td>\n",
              "      <td>0.781665</td>\n",
              "      <td>0.530012</td>\n",
              "      <td>NaN</td>\n",
              "      <td>NaN</td>\n",
              "      <td>...</td>\n",
              "      <td>White</td>\n",
              "      <td>Window</td>\n",
              "      <td>Infrastructure</td>\n",
              "      <td>Street fashion</td>\n",
              "      <td>Automotive lighting</td>\n",
              "      <td>Eyewear</td>\n",
              "      <td>Art</td>\n",
              "      <td>Neighbourhood</td>\n",
              "      <td>['Building', 'Car', 'White', 'Window', 'Infras...</td>\n",
              "      <td>['0.964320719242096', '0.933414101600647', '0....</td>\n",
              "    </tr>\n",
              "    <tr>\n",
              "      <th>1</th>\n",
              "      <td>1</td>\n",
              "      <td>Work by @ronenglish on the famed Houston Bower...</td>\n",
              "      <td>2</td>\n",
              "      <td>115</td>\n",
              "      <td>https://scontent-atl3-1.cdninstagram.com/v/t51...</td>\n",
              "      <td>1</td>\n",
              "      <td>0.710405</td>\n",
              "      <td>NaN</td>\n",
              "      <td>NaN</td>\n",
              "      <td>NaN</td>\n",
              "      <td>...</td>\n",
              "      <td>Graffiti</td>\n",
              "      <td>Brick</td>\n",
              "      <td>Building</td>\n",
              "      <td>Facade</td>\n",
              "      <td>Mural</td>\n",
              "      <td>Rectangle</td>\n",
              "      <td>City</td>\n",
              "      <td>Illustration</td>\n",
              "      <td>['Painting', 'Art', 'Graffiti', 'Brick', 'Buil...</td>\n",
              "      <td>['0.8222779035568237', '0.8212408423423767', '...</td>\n",
              "    </tr>\n",
              "    <tr>\n",
              "      <th>2</th>\n",
              "      <td>2</td>\n",
              "      <td>New work by @invaderwashere in Slovenia. 👾</td>\n",
              "      <td>2</td>\n",
              "      <td>111</td>\n",
              "      <td>https://scontent-atl3-1.cdninstagram.com/v/t51...</td>\n",
              "      <td>1</td>\n",
              "      <td>0.929607</td>\n",
              "      <td>NaN</td>\n",
              "      <td>NaN</td>\n",
              "      <td>NaN</td>\n",
              "      <td>...</td>\n",
              "      <td>Font</td>\n",
              "      <td>Line</td>\n",
              "      <td>Gas</td>\n",
              "      <td>Symmetry</td>\n",
              "      <td>Pattern</td>\n",
              "      <td>Creative arts</td>\n",
              "      <td>Illustration</td>\n",
              "      <td>Wood</td>\n",
              "      <td>['Rectangle', 'Art', 'Font', 'Line', 'Gas', 'S...</td>\n",
              "      <td>['0.8679025769233704', '0.8473606109619141', '...</td>\n",
              "    </tr>\n",
              "    <tr>\n",
              "      <th>3</th>\n",
              "      <td>3</td>\n",
              "      <td>Work by @davidzinn in Ann Arbor, Michigan.</td>\n",
              "      <td>30</td>\n",
              "      <td>3289</td>\n",
              "      <td>https://scontent-atl3-1.cdninstagram.com/v/t51...</td>\n",
              "      <td>0</td>\n",
              "      <td>NaN</td>\n",
              "      <td>NaN</td>\n",
              "      <td>NaN</td>\n",
              "      <td>NaN</td>\n",
              "      <td>...</td>\n",
              "      <td>Brickwork</td>\n",
              "      <td>Brick</td>\n",
              "      <td>Building material</td>\n",
              "      <td>Wall</td>\n",
              "      <td>Line</td>\n",
              "      <td>Composite material</td>\n",
              "      <td>Pattern</td>\n",
              "      <td>Wood</td>\n",
              "      <td>['Building', 'Rectangle', 'Brickwork', 'Brick'...</td>\n",
              "      <td>['0.8826923370361328', '0.8644804954528809', '...</td>\n",
              "    </tr>\n",
              "    <tr>\n",
              "      <th>4</th>\n",
              "      <td>4</td>\n",
              "      <td>“Touché, coulé” - new work by @matth.velvet in...</td>\n",
              "      <td>2</td>\n",
              "      <td>189</td>\n",
              "      <td>https://scontent-atl3-1.cdninstagram.com/v/t51...</td>\n",
              "      <td>4</td>\n",
              "      <td>0.695513</td>\n",
              "      <td>0.635542</td>\n",
              "      <td>0.555453</td>\n",
              "      <td>0.550535</td>\n",
              "      <td>...</td>\n",
              "      <td>Window</td>\n",
              "      <td>Building</td>\n",
              "      <td>Paint</td>\n",
              "      <td>Azure</td>\n",
              "      <td>Art paint</td>\n",
              "      <td>Infrastructure</td>\n",
              "      <td>Urban design</td>\n",
              "      <td>Art</td>\n",
              "      <td>['Sky', 'Daytime', 'Window', 'Building', 'Pain...</td>\n",
              "      <td>['0.9444730877876282', '0.9441952705383301', '...</td>\n",
              "    </tr>\n",
              "    <tr>\n",
              "      <th>...</th>\n",
              "      <td>...</td>\n",
              "      <td>...</td>\n",
              "      <td>...</td>\n",
              "      <td>...</td>\n",
              "      <td>...</td>\n",
              "      <td>...</td>\n",
              "      <td>...</td>\n",
              "      <td>...</td>\n",
              "      <td>...</td>\n",
              "      <td>...</td>\n",
              "      <td>...</td>\n",
              "      <td>...</td>\n",
              "      <td>...</td>\n",
              "      <td>...</td>\n",
              "      <td>...</td>\n",
              "      <td>...</td>\n",
              "      <td>...</td>\n",
              "      <td>...</td>\n",
              "      <td>...</td>\n",
              "      <td>...</td>\n",
              "      <td>...</td>\n",
              "    </tr>\n",
              "    <tr>\n",
              "      <th>1082</th>\n",
              "      <td>841</td>\n",
              "      <td>@findac wall in Paris, France 🇫🇷(2018)\\n•\\n#fi...</td>\n",
              "      <td>23</td>\n",
              "      <td>4403</td>\n",
              "      <td>https://scontent-bos3-1.cdninstagram.com/v/t51...</td>\n",
              "      <td>4</td>\n",
              "      <td>0.730663</td>\n",
              "      <td>0.568791</td>\n",
              "      <td>0.561120</td>\n",
              "      <td>0.525850</td>\n",
              "      <td>...</td>\n",
              "      <td>Window</td>\n",
              "      <td>World</td>\n",
              "      <td>Sculpture</td>\n",
              "      <td>Statue</td>\n",
              "      <td>Art</td>\n",
              "      <td>Facade</td>\n",
              "      <td>Monument</td>\n",
              "      <td>City</td>\n",
              "      <td>['Sky', 'Building', 'Window', 'World', 'Sculpt...</td>\n",
              "      <td>['0.958717942237854', '0.9427456855773926', '0...</td>\n",
              "    </tr>\n",
              "    <tr>\n",
              "      <th>1083</th>\n",
              "      <td>842</td>\n",
              "      <td>@artofdavidwalker wall in Nancy, France 🇫🇷(201...</td>\n",
              "      <td>62</td>\n",
              "      <td>9424</td>\n",
              "      <td>https://scontent-bos3-1.cdninstagram.com/v/t51...</td>\n",
              "      <td>10</td>\n",
              "      <td>0.866586</td>\n",
              "      <td>0.861993</td>\n",
              "      <td>0.858894</td>\n",
              "      <td>0.820464</td>\n",
              "      <td>...</td>\n",
              "      <td>Wheel</td>\n",
              "      <td>Daytime</td>\n",
              "      <td>Bicycle wheel</td>\n",
              "      <td>Building</td>\n",
              "      <td>Infrastructure</td>\n",
              "      <td>Human</td>\n",
              "      <td>Paint</td>\n",
              "      <td>Painting</td>\n",
              "      <td>['Bicycle', 'Tire', 'Wheel', 'Daytime', 'Bicyc...</td>\n",
              "      <td>['0.973189115524292', '0.9658660292625427', '0...</td>\n",
              "    </tr>\n",
              "    <tr>\n",
              "      <th>1084</th>\n",
              "      <td>843</td>\n",
              "      <td>@smeetsbart wall in Brussels, Belgium 🇧🇪(2018)...</td>\n",
              "      <td>18</td>\n",
              "      <td>3360</td>\n",
              "      <td>https://scontent-bos3-1.cdninstagram.com/v/t51...</td>\n",
              "      <td>5</td>\n",
              "      <td>0.888641</td>\n",
              "      <td>0.665505</td>\n",
              "      <td>0.660465</td>\n",
              "      <td>0.652895</td>\n",
              "      <td>...</td>\n",
              "      <td>Grey</td>\n",
              "      <td>Sneakers</td>\n",
              "      <td>Flooring</td>\n",
              "      <td>Rolling</td>\n",
              "      <td>Floor</td>\n",
              "      <td>Wall</td>\n",
              "      <td>Recreation</td>\n",
              "      <td>Walking shoe</td>\n",
              "      <td>['Shoe', 'Art', 'Grey', 'Sneakers', 'Flooring'...</td>\n",
              "      <td>['0.9540275931358337', '0.8576368093490601', '...</td>\n",
              "    </tr>\n",
              "    <tr>\n",
              "      <th>1085</th>\n",
              "      <td>844</td>\n",
              "      <td>@fintan_magee wall in Munich, Germany 🇩🇪(2018)...</td>\n",
              "      <td>21</td>\n",
              "      <td>2463</td>\n",
              "      <td>https://scontent-bos3-1.cdninstagram.com/v/t51...</td>\n",
              "      <td>5</td>\n",
              "      <td>0.909237</td>\n",
              "      <td>0.842865</td>\n",
              "      <td>0.769731</td>\n",
              "      <td>0.751040</td>\n",
              "      <td>...</td>\n",
              "      <td>Window</td>\n",
              "      <td>Building</td>\n",
              "      <td>Sky</td>\n",
              "      <td>Flash photography</td>\n",
              "      <td>Waist</td>\n",
              "      <td>Standing</td>\n",
              "      <td>Shorts</td>\n",
              "      <td>Thigh</td>\n",
              "      <td>['Arm', 'Shoulder', 'Window', 'Building', 'Sky...</td>\n",
              "      <td>['0.943327784538269', '0.9427759647369385', '0...</td>\n",
              "    </tr>\n",
              "    <tr>\n",
              "      <th>1086</th>\n",
              "      <td>845</td>\n",
              "      <td>@seth_globepainter wall in Neuf Brisach, Franc...</td>\n",
              "      <td>23</td>\n",
              "      <td>4886</td>\n",
              "      <td>https://scontent-bos3-1.cdninstagram.com/v/t51...</td>\n",
              "      <td>0</td>\n",
              "      <td>NaN</td>\n",
              "      <td>NaN</td>\n",
              "      <td>NaN</td>\n",
              "      <td>NaN</td>\n",
              "      <td>...</td>\n",
              "      <td>Door</td>\n",
              "      <td>Art</td>\n",
              "      <td>Graffiti</td>\n",
              "      <td>Building</td>\n",
              "      <td>Creative arts</td>\n",
              "      <td>Art paint</td>\n",
              "      <td>Facade</td>\n",
              "      <td>Tints and shades</td>\n",
              "      <td>['Fixture', 'Paint', 'Door', 'Art', 'Graffiti'...</td>\n",
              "      <td>['0.9061456322669983', '0.8933002352714539', '...</td>\n",
              "    </tr>\n",
              "  </tbody>\n",
              "</table>\n",
              "<p>1087 rows × 51 columns</p>\n",
              "</div>"
            ],
            "text/plain": [
              "      Unnamed: 0                                            Caption  Comments  \\\n",
              "0              0  “Always Stay Hungry” - work by @sasha.korban f...         3   \n",
              "1              1  Work by @ronenglish on the famed Houston Bower...         2   \n",
              "2              2         New work by @invaderwashere in Slovenia. 👾         2   \n",
              "3              3         Work by @davidzinn in Ann Arbor, Michigan.        30   \n",
              "4              4  “Touché, coulé” - new work by @matth.velvet in...         2   \n",
              "...          ...                                                ...       ...   \n",
              "1082         841  @findac wall in Paris, France 🇫🇷(2018)\\n•\\n#fi...        23   \n",
              "1083         842  @artofdavidwalker wall in Nancy, France 🇫🇷(201...        62   \n",
              "1084         843  @smeetsbart wall in Brussels, Belgium 🇧🇪(2018)...        18   \n",
              "1085         844  @fintan_magee wall in Munich, Germany 🇩🇪(2018)...        21   \n",
              "1086         845  @seth_globepainter wall in Neuf Brisach, Franc...        23   \n",
              "\n",
              "      Likes                                                URL  Object_Num  \\\n",
              "0       175  https://scontent-atl3-1.cdninstagram.com/v/t51...           2   \n",
              "1       115  https://scontent-atl3-1.cdninstagram.com/v/t51...           1   \n",
              "2       111  https://scontent-atl3-1.cdninstagram.com/v/t51...           1   \n",
              "3      3289  https://scontent-atl3-1.cdninstagram.com/v/t51...           0   \n",
              "4       189  https://scontent-atl3-1.cdninstagram.com/v/t51...           4   \n",
              "...     ...                                                ...         ...   \n",
              "1082   4403  https://scontent-bos3-1.cdninstagram.com/v/t51...           4   \n",
              "1083   9424  https://scontent-bos3-1.cdninstagram.com/v/t51...          10   \n",
              "1084   3360  https://scontent-bos3-1.cdninstagram.com/v/t51...           5   \n",
              "1085   2463  https://scontent-bos3-1.cdninstagram.com/v/t51...           5   \n",
              "1086   4886  https://scontent-bos3-1.cdninstagram.com/v/t51...           0   \n",
              "\n",
              "      Object_0_score  Object_1_score  Object_2_score  Object_3_score  ...  \\\n",
              "0           0.781665        0.530012             NaN             NaN  ...   \n",
              "1           0.710405             NaN             NaN             NaN  ...   \n",
              "2           0.929607             NaN             NaN             NaN  ...   \n",
              "3                NaN             NaN             NaN             NaN  ...   \n",
              "4           0.695513        0.635542        0.555453        0.550535  ...   \n",
              "...              ...             ...             ...             ...  ...   \n",
              "1082        0.730663        0.568791        0.561120        0.525850  ...   \n",
              "1083        0.866586        0.861993        0.858894        0.820464  ...   \n",
              "1084        0.888641        0.665505        0.660465        0.652895  ...   \n",
              "1085        0.909237        0.842865        0.769731        0.751040  ...   \n",
              "1086             NaN             NaN             NaN             NaN  ...   \n",
              "\n",
              "         Label_2    Label_3             Label_4             Label_5  \\\n",
              "0          White     Window      Infrastructure      Street fashion   \n",
              "1       Graffiti      Brick            Building              Facade   \n",
              "2           Font       Line                 Gas            Symmetry   \n",
              "3      Brickwork      Brick   Building material                Wall   \n",
              "4         Window   Building               Paint               Azure   \n",
              "...          ...        ...                 ...                 ...   \n",
              "1082      Window      World           Sculpture              Statue   \n",
              "1083       Wheel    Daytime       Bicycle wheel            Building   \n",
              "1084        Grey   Sneakers            Flooring             Rolling   \n",
              "1085      Window   Building                 Sky   Flash photography   \n",
              "1086        Door        Art            Graffiti            Building   \n",
              "\n",
              "                   Label_6              Label_7        Label_8  \\\n",
              "0      Automotive lighting              Eyewear            Art   \n",
              "1                    Mural            Rectangle           City   \n",
              "2                  Pattern        Creative arts   Illustration   \n",
              "3                     Line   Composite material        Pattern   \n",
              "4                Art paint       Infrastructure   Urban design   \n",
              "...                    ...                  ...            ...   \n",
              "1082                   Art               Facade       Monument   \n",
              "1083        Infrastructure                Human          Paint   \n",
              "1084                 Floor                 Wall     Recreation   \n",
              "1085                 Waist             Standing         Shorts   \n",
              "1086         Creative arts            Art paint         Facade   \n",
              "\n",
              "                Label_9                               Labels_Objects_Names  \\\n",
              "0         Neighbourhood  ['Building', 'Car', 'White', 'Window', 'Infras...   \n",
              "1          Illustration  ['Painting', 'Art', 'Graffiti', 'Brick', 'Buil...   \n",
              "2                  Wood  ['Rectangle', 'Art', 'Font', 'Line', 'Gas', 'S...   \n",
              "3                  Wood  ['Building', 'Rectangle', 'Brickwork', 'Brick'...   \n",
              "4                   Art  ['Sky', 'Daytime', 'Window', 'Building', 'Pain...   \n",
              "...                 ...                                                ...   \n",
              "1082               City  ['Sky', 'Building', 'Window', 'World', 'Sculpt...   \n",
              "1083           Painting  ['Bicycle', 'Tire', 'Wheel', 'Daytime', 'Bicyc...   \n",
              "1084       Walking shoe  ['Shoe', 'Art', 'Grey', 'Sneakers', 'Flooring'...   \n",
              "1085              Thigh  ['Arm', 'Shoulder', 'Window', 'Building', 'Sky...   \n",
              "1086   Tints and shades  ['Fixture', 'Paint', 'Door', 'Art', 'Graffiti'...   \n",
              "\n",
              "                                  Labels_Objects_Scores  \n",
              "0     ['0.964320719242096', '0.933414101600647', '0....  \n",
              "1     ['0.8222779035568237', '0.8212408423423767', '...  \n",
              "2     ['0.8679025769233704', '0.8473606109619141', '...  \n",
              "3     ['0.8826923370361328', '0.8644804954528809', '...  \n",
              "4     ['0.9444730877876282', '0.9441952705383301', '...  \n",
              "...                                                 ...  \n",
              "1082  ['0.958717942237854', '0.9427456855773926', '0...  \n",
              "1083  ['0.973189115524292', '0.9658660292625427', '0...  \n",
              "1084  ['0.9540275931358337', '0.8576368093490601', '...  \n",
              "1085  ['0.943327784538269', '0.9427759647369385', '0...  \n",
              "1086  ['0.9061456322669983', '0.8933002352714539', '...  \n",
              "\n",
              "[1087 rows x 51 columns]"
            ]
          },
          "metadata": {
            "tags": []
          },
          "execution_count": 11
        }
      ]
    },
    {
      "cell_type": "markdown",
      "metadata": {
        "id": "khNBcLrNbi08"
      },
      "source": [
        "Dataframe with labels and objects in individual columns with their associated score."
      ]
    },
    {
      "cell_type": "markdown",
      "metadata": {
        "id": "qBAGTVpybi08"
      },
      "source": [
        "## Data Cleaning"
      ]
    },
    {
      "cell_type": "markdown",
      "metadata": {
        "id": "3CBTVZtmbi09"
      },
      "source": [
        "In this section, we are cleaning the datat so the content is easily parsible for the model."
      ]
    },
    {
      "cell_type": "code",
      "metadata": {
        "id": "i-KC8fBJbi09"
      },
      "source": [
        "for g in range(0,10):\n",
        "    Df[\"Object_\"+str(g)] = Df[\"Object_\"+str(g)].str.replace(r\"[\\\"\\',]\", '')\n",
        "    \n",
        "for g in range(0,10):\n",
        "        Df[\"Object_\"+str(g)+\"_score\"] = Df[\"Object_\"+str(g)+\"_score\"].str.replace(r\"[\\\"\\',]\", '')\n",
        "        Df[\"Object_\"+str(g)+\"_score\"] = pd.to_numeric(Df[\"Object_\"+str(g)+\"_score\"])"
      ],
      "execution_count": null,
      "outputs": []
    },
    {
      "cell_type": "code",
      "metadata": {
        "id": "XGq1TsFzbi09"
      },
      "source": [
        "for g in range(0,10):\n",
        "        Df[\"Label_\"+str(g)+\"_score\"] = Df[\"Label_\"+str(g)+\"_score\"].str.replace(r\"[\\\"\\',]\", '')\n",
        "        Df[\"Label_\"+str(g)+\"_score\"] = pd.to_numeric(Df[\"Label_\"+str(g)+\"_score\"])\n",
        "\n",
        "for g in range(0,10):\n",
        "     Df[\"Label_\"+str(g)] = Df[\"Label_\"+str(g)].str.replace(r\"[\\\"\\',]\", '')"
      ],
      "execution_count": null,
      "outputs": []
    },
    {
      "cell_type": "markdown",
      "metadata": {
        "id": "NKpUBJYXbi0-"
      },
      "source": [
        "Now that this dataset is populated and cleaned, we will be using this to create a random forest regressor model."
      ]
    }
  ]
}