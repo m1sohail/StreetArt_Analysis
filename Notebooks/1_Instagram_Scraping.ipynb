{
 "cells": [
  {
   "cell_type": "markdown",
   "metadata": {
    "id": "_DMdUeMuRT6_"
   },
   "source": [
    "# Instagram Loader"
   ]
  },
  {
   "cell_type": "markdown",
   "metadata": {
    "id": "NCkkWS9VDmry"
   },
   "source": [
    "### Pip Installations"
   ]
  },
  {
   "cell_type": "code",
   "execution_count": null,
   "metadata": {
    "colab": {
     "base_uri": "https://localhost:8080/"
    },
    "id": "uZwGnqzFU0R4",
    "outputId": "989c2a6c-cee2-4b31-9a8d-43787af4a77f"
   },
   "outputs": [
    {
     "name": "stdout",
     "output_type": "stream",
     "text": [
      "Collecting instaloader\n",
      "\u001b[?25l  Downloading https://files.pythonhosted.org/packages/35/4b/dcf7c70de72aff4b4c3ce6edcebc5a40125446aecf6c982e76ae66fe8538/instaloader-4.7.1.tar.gz (49kB)\n",
      "\r",
      "\u001b[K     |██████▋                         | 10kB 14.4MB/s eta 0:00:01\r",
      "\u001b[K     |█████████████▏                  | 20kB 15.0MB/s eta 0:00:01\r",
      "\u001b[K     |███████████████████▊            | 30kB 8.9MB/s eta 0:00:01\r",
      "\u001b[K     |██████████████████████████▎     | 40kB 8.0MB/s eta 0:00:01\r",
      "\u001b[K     |████████████████████████████████| 51kB 2.4MB/s \n",
      "\u001b[?25hRequirement already satisfied: requests>=2.4 in /usr/local/lib/python3.7/dist-packages (from instaloader) (2.23.0)\n",
      "Requirement already satisfied: certifi>=2017.4.17 in /usr/local/lib/python3.7/dist-packages (from requests>=2.4->instaloader) (2020.12.5)\n",
      "Requirement already satisfied: urllib3!=1.25.0,!=1.25.1,<1.26,>=1.21.1 in /usr/local/lib/python3.7/dist-packages (from requests>=2.4->instaloader) (1.24.3)\n",
      "Requirement already satisfied: chardet<4,>=3.0.2 in /usr/local/lib/python3.7/dist-packages (from requests>=2.4->instaloader) (3.0.4)\n",
      "Requirement already satisfied: idna<3,>=2.5 in /usr/local/lib/python3.7/dist-packages (from requests>=2.4->instaloader) (2.10)\n",
      "Building wheels for collected packages: instaloader\n",
      "  Building wheel for instaloader (setup.py) ... \u001b[?25l\u001b[?25hdone\n",
      "  Created wheel for instaloader: filename=instaloader-4.7.1-cp37-none-any.whl size=53347 sha256=57a32fd6950567bf95f91ebe3621c7df3c78a699e6361b6d43d560db11770b7e\n",
      "  Stored in directory: /root/.cache/pip/wheels/52/58/b1/3b6e77f1ba6db08f757800e8bbb9ac12d465fa3378270b1bb2\n",
      "Successfully built instaloader\n",
      "Installing collected packages: instaloader\n",
      "Successfully installed instaloader-4.7.1\n"
     ]
    }
   ],
   "source": [
    "!pip install instaloader"
   ]
  },
  {
   "cell_type": "code",
   "execution_count": null,
   "metadata": {
    "colab": {
     "base_uri": "https://localhost:8080/"
    },
    "id": "XxOnLGTXU2vp",
    "outputId": "6d6747f7-646c-4858-8861-f03a0c6c453e"
   },
   "outputs": [
    {
     "name": "stdout",
     "output_type": "stream",
     "text": [
      "Collecting geotext\n",
      "\u001b[?25l  Downloading https://files.pythonhosted.org/packages/25/c5/36351193092cb4c1d7002d2a3babe5e72ae377868473933d6f63b41e5454/geotext-0.4.0-py2.py3-none-any.whl (2.0MB)\n",
      "\u001b[K     |████████████████████████████████| 2.0MB 5.3MB/s \n",
      "\u001b[?25hInstalling collected packages: geotext\n",
      "Successfully installed geotext-0.4.0\n"
     ]
    }
   ],
   "source": [
    "!pip install geotext"
   ]
  },
  {
   "cell_type": "code",
   "execution_count": null,
   "metadata": {
    "colab": {
     "base_uri": "https://localhost:8080/"
    },
    "id": "TrNhC2AjU65j",
    "outputId": "8f4c2ea5-4b04-4072-bd62-22a94aa7d4ba"
   },
   "outputs": [
    {
     "name": "stdout",
     "output_type": "stream",
     "text": [
      "Collecting googlemaps\n",
      "  Downloading https://files.pythonhosted.org/packages/32/d0/3e02a031197a6e9499833dd15edd92675097438569b24a1ca8f9904a1c69/googlemaps-4.4.5.tar.gz\n",
      "Requirement already satisfied: requests<3.0,>=2.20.0 in /usr/local/lib/python3.7/dist-packages (from googlemaps) (2.23.0)\n",
      "Requirement already satisfied: idna<3,>=2.5 in /usr/local/lib/python3.7/dist-packages (from requests<3.0,>=2.20.0->googlemaps) (2.10)\n",
      "Requirement already satisfied: urllib3!=1.25.0,!=1.25.1,<1.26,>=1.21.1 in /usr/local/lib/python3.7/dist-packages (from requests<3.0,>=2.20.0->googlemaps) (1.24.3)\n",
      "Requirement already satisfied: chardet<4,>=3.0.2 in /usr/local/lib/python3.7/dist-packages (from requests<3.0,>=2.20.0->googlemaps) (3.0.4)\n",
      "Requirement already satisfied: certifi>=2017.4.17 in /usr/local/lib/python3.7/dist-packages (from requests<3.0,>=2.20.0->googlemaps) (2020.12.5)\n",
      "Building wheels for collected packages: googlemaps\n",
      "  Building wheel for googlemaps (setup.py) ... \u001b[?25l\u001b[?25hdone\n",
      "  Created wheel for googlemaps: filename=googlemaps-4.4.5-cp37-none-any.whl size=37983 sha256=49fbc6faeaca8150a8986eba75b76849ab75a25275932c9ff7ef12fd923350ab\n",
      "  Stored in directory: /root/.cache/pip/wheels/fb/24/33/51b0faba1170f6519eae3c51b6adbd9939296c73f54230b069\n",
      "Successfully built googlemaps\n",
      "Installing collected packages: googlemaps\n",
      "Successfully installed googlemaps-4.4.5\n"
     ]
    }
   ],
   "source": [
    "!pip install googlemaps"
   ]
  },
  {
   "cell_type": "markdown",
   "metadata": {
    "id": "PQVLOMNJDsSq"
   },
   "source": [
    "### Imports"
   ]
  },
  {
   "cell_type": "code",
   "execution_count": null,
   "metadata": {
    "colab": {
     "base_uri": "https://localhost:8080/"
    },
    "id": "qQgs1CzzEWMp",
    "outputId": "54701d1d-ac01-4445-a5d2-eadb40b29409"
   },
   "outputs": [
    {
     "name": "stdout",
     "output_type": "stream",
     "text": [
      "[nltk_data] Downloading package stopwords to /root/nltk_data...\n",
      "[nltk_data]   Unzipping corpora/stopwords.zip.\n"
     ]
    }
   ],
   "source": [
    "from instaloader import Instaloader\n",
    "import pandas as pd\n",
    "from geotext import GeoText\n",
    "from geopy.geocoders import Nominatim\n",
    "import nltk\n",
    "nltk.download('stopwords')\n",
    "from nltk.corpus import stopwords\n",
    "import string\n",
    "import numpy as np"
   ]
  },
  {
   "cell_type": "code",
   "execution_count": null,
   "metadata": {
    "id": "iHXitd4sCw-7"
   },
   "outputs": [],
   "source": [
    "loader = Instaloader(download_pictures = False, download_videos=False, download_geotags=True, download_comments=True )\n",
    "#Declare Instaloader object\n",
    "loader.login(user = \"insy670_burner\", passwd = \"project\")\n",
    "#Access to instagram"
   ]
  },
  {
   "cell_type": "markdown",
   "metadata": {
    "id": "dpgH0gyiRfOH"
   },
   "source": [
    "### Load data from hashtags"
   ]
  },
  {
   "cell_type": "code",
   "execution_count": null,
   "metadata": {
    "id": "r1GqQKJlEZoL"
   },
   "outputs": [],
   "source": [
    "#Retrieve posts from instagram\n",
    "def download_posts_with_hashtag(instaloader, hashtags, max_per_hashtag):\n",
    "      \n",
    "    posts = [] #Declare empty list where posts will be stored\n",
    "    \n",
    "    #Loop instaloader to get post related to the hashtag passed\n",
    "    for max_loops in range(len(hashtags)):\n",
    "        for count, post in enumerate(instaloader.get_hashtag_posts(hashtags[max_loops])):\n",
    "            posts.append(post)\n",
    "            if count >= max_per_hashtag - 1:\n",
    "              #counter to limit the number of posts retrieved\n",
    "                break\n",
    "        max_loops = max_loops + 1\n",
    "\n",
    "    print(\"Downloading posts with hashtags {}\".format(','.join(hashtags)))\n",
    "    for count, post in enumerate(posts):\n",
    "        #Loop posts gathered previously\n",
    "        print(\"[{:03d}/{:03d}] \".format(count + 1, len(posts)))\n",
    "        instaloader.download_post(post, target=','.join(hashtags))\n",
    "        #Download information related to the post passed in previous loop\n",
    "    \n",
    "    return posts\n",
    "    #Function gives back JSON objects with the all the information related to the posts such as user, comments, location, etc.\n",
    "\n"
   ]
  },
  {
   "cell_type": "code",
   "execution_count": null,
   "metadata": {
    "colab": {
     "base_uri": "https://localhost:8080/",
     "height": 1000
    },
    "id": "Yk9DSrfxWukw",
    "outputId": "41c2cccc-3550-4921-b4e6-777cfdfaec85"
   },
   "outputs": [
    {
     "name": "stdout",
     "output_type": "stream",
     "text": [
      "Downloading posts with hashtags mural,urbanart,streetart,muralart\n",
      "[001/200] \n",
      "[“We Rise As One” #minneapolis…] geo json \n",
      "[002/200] \n",
      "[Need I say more? 😲🤤🍫 #mural f…] geo json \n",
      "[003/200] \n",
      "[#downtownknoxville #mural #mu…] json \n",
      "[004/200] \n",
      "[#heart #mural #art #artwork #…] geo json \n",
      "[005/200] \n",
      "[“Better Together” by City Mis…] geo json \n",
      "[006/200] \n",
      "[•Modì-street art•  . .  #stre…] geo json \n",
      "[007/200] \n",
      "[Early Spring vibes in Portlan…] comments json \n",
      "[008/200] \n",
      "[Jueves Santo 🙏 La última cena…] json \n",
      "[009/200] \n",
      "[Closeup of the #butterfly in …] geo json \n",
      "[010/200] \n",
      "[Is it too late for a TBT? 😂 Y…] comments json \n",
      "[011/200] \n",
      "[WIP  another wall  @nowaitmed…] geo json \n",
      "[012/200] \n",
      "[“Love Is All Around No Need T…] geo json \n",
      "[013/200] \n",
      "[Hammered cabinet handles by @…] json \n",
      "[014/200] \n",
      "[🔴Venimos recargados de buena …] geo json \n",
      "[015/200] \n",
      "[📸 #pinkstyle #pinkwoman #port…] geo comments json \n",
      "[016/200] \n",
      "[🍟🌭🍔🔥 Pronto Nuevo local de co…] geo json \n",
      "[017/200] \n",
      "[Another #mural in #Lakeland s…] geo json \n",
      "[018/200] \n",
      "[Les dejé un SORTEO EXPRESS en…] geo json \n",
      "[019/200] \n",
      "[Reminiscing about those downt…] geo json \n",
      "[020/200] \n",
      "[#丸の内kitte の2Fに壁面を描きました🌱  自然と共…] geo json \n",
      "[021/200] \n",
      "[HAVE YOU ENTERED?   🌿Takes 30…] geo comments json \n",
      "[022/200] \n",
      "[Mural de la serie de murales …] geo comments json \n",
      "[023/200] \n",
      "[#mural #mosaico #color] geo json \n",
      "[024/200] \n",
      "[This what brings you while wa…] json \n",
      "[025/200] \n",
      "[I had to pull over and get a …] geo json \n",
      "[026/200] \n",
      "[Encontrar esquinas llenas de …] geo json \n",
      "[027/200] \n",
      "[#akacorleone #urbanart #stree…] geo json \n",
      "[028/200] \n",
      "[🤍滞在していたドイツの町並みに塗り替える前は 紫陽花の花で…] json \n",
      "[029/200] \n",
      "[Fotos de hoy jueves, con una …] geo json \n",
      "[030/200] \n",
      "[Mural de la maldita pandemia …] json \n",
      "[031/200] \n",
      "[#detailshot of my @anthobourd…] geo comments json \n",
      "[032/200] \n",
      "[Sim, acabei agora! 20hrs! Mas…] geo json \n",
      "[033/200] \n",
      "[👻📸_________  Detalhes no cami…] json \n",
      "[034/200] \n",
      "[Can’t wait to see this one fi…] comments json \n",
      "[035/200] \n",
      "[ᴘᴜʀᴀ ᴠɪᴅᴀ ɪɴ Qᴜᴇʙʀᴀᴅɪʟʟᴀꜱ, ᴘᴜ…] geo comments json \n",
      "[036/200] \n",
      "[Street Art #streetart #arteur…] geo json \n",
      "[037/200] \n",
      "[Here’s a peek into my fae hea…] json \n",
      "[038/200] \n",
      "[Por ahí...💀🌺 #mural#artecalle…] json \n",
      "[039/200] \n",
      "[♥️Art on the Inside ♥️  Insid…] geo comments json \n",
      "[040/200] \n",
      "[New  Commission piece. 4 feet…] geo comments json \n",
      "[041/200] \n",
      "[🌸Gucci x Ken Scott Mural  To …] geo comments json \n",
      "[042/200] \n",
      "[Trabajo 2 terminado 😎🎨😁@bryan…] json \n",
      "[043/200] \n",
      "[O mural que estava  sendo pin…] comments json \n",
      "[044/200] \n",
      "[#komedi #tanertolgatarlacı#ta…] json \n",
      "[045/200] \n",
      "[🚲A Ride Through Time🚲   On th…] geo json \n",
      "[046/200] \n",
      "[Smile!! Because we only have …] geo comments json \n",
      "[047/200] \n",
      "[Spring Camp, Painted Mural. Y…] json \n",
      "[048/200] \n",
      "[Un murito de hace unos días y…] geo comments json \n",
      "[049/200] \n",
      "[#komedi #tanertolgatarlacı#ta…] json \n",
      "[050/200] \n",
      "[I'm not sure if this part of …] geo json \n",
      "[051/200] \n",
      "[#getafecf #getafe ##streetart…] json \n",
      "[052/200] \n",
      "[Hace dos años ya, me hice un …] geo json \n",
      "[053/200] \n",
      "[What not to love about #dimsu…] json \n",
      "[054/200] \n",
      "[That’s why I’m the prince... …] geo json \n",
      "[055/200] \n",
      "[•Modì-street art•  . .  #stre…] unchanged geo json \n",
      "[056/200] \n",
      "[Taxi drivers. La locura del t…] json \n",
      "[057/200] \n",
      "[Moto / Vélo ? @the_chameleons…] geo json \n",
      "[058/200] \n",
      "[21 🌃😇🪙💙🖤🙋🏿‍♂️🌠🐜🐜🐜🐜🐜🐜TMN Trigg…] geo comments json \n",
      "[059/200] \n",
      "[Urban shoot ☢ @jeanking_tv  @…] geo json \n",
      "[060/200] \n",
      "[All the vaccinated people in …] geo comments json \n",
      "[061/200] \n",
      "[💚 love 💚 #love #doodle #urban…] geo comments json \n",
      "[062/200] \n",
      "[#underground electrics with #…] json \n",
      "[063/200] \n",
      "[Arte realizado para @mexico.r…] json \n",
      "[064/200] \n",
      "[SoMeEsUaTriBo . . . . . . . .…] comments json \n",
      "[065/200] \n",
      "[In the jungle I’m the 1 only …] geo comments json \n",
      "[066/200] \n",
      "[Cool unisex duffle bags! Worl…] json \n",
      "[067/200] \n",
      "[The page that would let you K…] json \n",
      "[068/200] \n",
      "[Buscando un sitio en calles l…] json \n",
      "[069/200] \n",
      "[#streetart #mixedmedia #mixed…] json \n",
      "[070/200] \n",
      "[Enero 2015  #getafecf #street…] "
     ]
    },
    {
     "ename": "BadResponseException",
     "evalue": "ignored",
     "output_type": "error",
     "traceback": [
      "\u001b[0;31m---------------------------------------------------------------------------\u001b[0m",
      "\u001b[0;31mKeyError\u001b[0m                                  Traceback (most recent call last)",
      "\u001b[0;32m/usr/local/lib/python3.7/dist-packages/instaloader/structures.py\u001b[0m in \u001b[0;36m_field\u001b[0;34m(self, *keys)\u001b[0m\n\u001b[1;32m    182\u001b[0m             \u001b[0;32mfor\u001b[0m \u001b[0mkey\u001b[0m \u001b[0;32min\u001b[0m \u001b[0mkeys\u001b[0m\u001b[0;34m:\u001b[0m\u001b[0;34m\u001b[0m\u001b[0;34m\u001b[0m\u001b[0m\n\u001b[0;32m--> 183\u001b[0;31m                 \u001b[0md\u001b[0m \u001b[0;34m=\u001b[0m \u001b[0md\u001b[0m\u001b[0;34m[\u001b[0m\u001b[0mkey\u001b[0m\u001b[0;34m]\u001b[0m\u001b[0;34m\u001b[0m\u001b[0;34m\u001b[0m\u001b[0m\n\u001b[0m\u001b[1;32m    184\u001b[0m             \u001b[0;32mreturn\u001b[0m \u001b[0md\u001b[0m\u001b[0;34m\u001b[0m\u001b[0;34m\u001b[0m\u001b[0m\n",
      "\u001b[0;31mKeyError\u001b[0m: 'location'",
      "\nDuring handling of the above exception, another exception occurred:\n",
      "\u001b[0;31mBadResponseException\u001b[0m                      Traceback (most recent call last)",
      "\u001b[0;32m<ipython-input-29-e7a55edae0a7>\u001b[0m in \u001b[0;36m<module>\u001b[0;34m()\u001b[0m\n\u001b[1;32m      6\u001b[0m posts = download_posts_with_hashtag(loader,\n\u001b[1;32m      7\u001b[0m                                     \u001b[0mhashtags\u001b[0m\u001b[0;34m=\u001b[0m\u001b[0;34m[\u001b[0m\u001b[0;34m'mural'\u001b[0m\u001b[0;34m,\u001b[0m\u001b[0;34m'urbanart'\u001b[0m\u001b[0;34m,\u001b[0m\u001b[0;34m'streetart'\u001b[0m\u001b[0;34m,\u001b[0m\u001b[0;34m'muralart'\u001b[0m\u001b[0;34m]\u001b[0m\u001b[0;34m,\u001b[0m\u001b[0;34m\u001b[0m\u001b[0;34m\u001b[0m\u001b[0m\n\u001b[0;32m----> 8\u001b[0;31m                                     max_per_hashtag=50)\n\u001b[0m\u001b[1;32m      9\u001b[0m \u001b[0;31m#Function to retrieve Instagram posts based on the hashtags passed\u001b[0m\u001b[0;34m\u001b[0m\u001b[0;34m\u001b[0m\u001b[0;34m\u001b[0m\u001b[0m\n",
      "\u001b[0;32m<ipython-input-8-c054a049255f>\u001b[0m in \u001b[0;36mdownload_posts_with_hashtag\u001b[0;34m(instaloader, hashtags, max_per_hashtag)\u001b[0m\n\u001b[1;32m     17\u001b[0m         \u001b[0;31m#Loop posts gathered previously\u001b[0m\u001b[0;34m\u001b[0m\u001b[0;34m\u001b[0m\u001b[0;34m\u001b[0m\u001b[0m\n\u001b[1;32m     18\u001b[0m         \u001b[0mprint\u001b[0m\u001b[0;34m(\u001b[0m\u001b[0;34m\"[{:03d}/{:03d}] \"\u001b[0m\u001b[0;34m.\u001b[0m\u001b[0mformat\u001b[0m\u001b[0;34m(\u001b[0m\u001b[0mcount\u001b[0m \u001b[0;34m+\u001b[0m \u001b[0;36m1\u001b[0m\u001b[0;34m,\u001b[0m \u001b[0mlen\u001b[0m\u001b[0;34m(\u001b[0m\u001b[0mposts\u001b[0m\u001b[0;34m)\u001b[0m\u001b[0;34m)\u001b[0m\u001b[0;34m)\u001b[0m\u001b[0;34m\u001b[0m\u001b[0;34m\u001b[0m\u001b[0m\n\u001b[0;32m---> 19\u001b[0;31m         \u001b[0minstaloader\u001b[0m\u001b[0;34m.\u001b[0m\u001b[0mdownload_post\u001b[0m\u001b[0;34m(\u001b[0m\u001b[0mpost\u001b[0m\u001b[0;34m,\u001b[0m \u001b[0mtarget\u001b[0m\u001b[0;34m=\u001b[0m\u001b[0;34m','\u001b[0m\u001b[0;34m.\u001b[0m\u001b[0mjoin\u001b[0m\u001b[0;34m(\u001b[0m\u001b[0mhashtags\u001b[0m\u001b[0;34m)\u001b[0m\u001b[0;34m)\u001b[0m\u001b[0;34m\u001b[0m\u001b[0;34m\u001b[0m\u001b[0m\n\u001b[0m\u001b[1;32m     20\u001b[0m         \u001b[0;31m#Download information related to the post passed in previous loop\u001b[0m\u001b[0;34m\u001b[0m\u001b[0;34m\u001b[0m\u001b[0;34m\u001b[0m\u001b[0m\n\u001b[1;32m     21\u001b[0m \u001b[0;34m\u001b[0m\u001b[0m\n",
      "\u001b[0;32m/usr/local/lib/python3.7/dist-packages/instaloader/instaloader.py\u001b[0m in \u001b[0;36mdownload_post\u001b[0;34m(self, post, target)\u001b[0m\n\u001b[1;32m    668\u001b[0m \u001b[0;34m\u001b[0m\u001b[0m\n\u001b[1;32m    669\u001b[0m         \u001b[0;31m# Download geotags if desired\u001b[0m\u001b[0;34m\u001b[0m\u001b[0;34m\u001b[0m\u001b[0;34m\u001b[0m\u001b[0m\n\u001b[0;32m--> 670\u001b[0;31m         \u001b[0;32mif\u001b[0m \u001b[0mself\u001b[0m\u001b[0;34m.\u001b[0m\u001b[0mdownload_geotags\u001b[0m \u001b[0;32mand\u001b[0m \u001b[0mpost\u001b[0m\u001b[0;34m.\u001b[0m\u001b[0mlocation\u001b[0m\u001b[0;34m:\u001b[0m\u001b[0;34m\u001b[0m\u001b[0;34m\u001b[0m\u001b[0m\n\u001b[0m\u001b[1;32m    671\u001b[0m             \u001b[0mself\u001b[0m\u001b[0;34m.\u001b[0m\u001b[0msave_location\u001b[0m\u001b[0;34m(\u001b[0m\u001b[0mfilename\u001b[0m\u001b[0;34m,\u001b[0m \u001b[0mpost\u001b[0m\u001b[0;34m.\u001b[0m\u001b[0mlocation\u001b[0m\u001b[0;34m,\u001b[0m \u001b[0mpost\u001b[0m\u001b[0;34m.\u001b[0m\u001b[0mdate_local\u001b[0m\u001b[0;34m)\u001b[0m\u001b[0;34m\u001b[0m\u001b[0;34m\u001b[0m\u001b[0m\n\u001b[1;32m    672\u001b[0m \u001b[0;34m\u001b[0m\u001b[0m\n",
      "\u001b[0;32m/usr/local/lib/python3.7/dist-packages/instaloader/structures.py\u001b[0m in \u001b[0;36mlocation\u001b[0;34m(self)\u001b[0m\n\u001b[1;32m    545\u001b[0m            \u001b[0mRequire\u001b[0m \u001b[0mbeing\u001b[0m \u001b[0mlogged\u001b[0m \u001b[0;32min\u001b[0m \u001b[0;34m(\u001b[0m\u001b[0;32mas\u001b[0m \u001b[0mrequired\u001b[0m \u001b[0mby\u001b[0m \u001b[0mInstagram\u001b[0m\u001b[0;34m)\u001b[0m\u001b[0;34m,\u001b[0m \u001b[0;32mreturn\u001b[0m \u001b[0;32mNone\u001b[0m \u001b[0;32mif\u001b[0m \u001b[0;32mnot\u001b[0m \u001b[0mlogged\u001b[0m\u001b[0;34m-\u001b[0m\u001b[0;32min\u001b[0m\u001b[0;34m.\u001b[0m\u001b[0;34m\u001b[0m\u001b[0;34m\u001b[0m\u001b[0m\n\u001b[1;32m    546\u001b[0m         \"\"\"\n\u001b[0;32m--> 547\u001b[0;31m         \u001b[0mloc\u001b[0m \u001b[0;34m=\u001b[0m \u001b[0mself\u001b[0m\u001b[0;34m.\u001b[0m\u001b[0m_field\u001b[0m\u001b[0;34m(\u001b[0m\u001b[0;34m\"location\"\u001b[0m\u001b[0;34m)\u001b[0m\u001b[0;34m\u001b[0m\u001b[0;34m\u001b[0m\u001b[0m\n\u001b[0m\u001b[1;32m    548\u001b[0m         \u001b[0;32mif\u001b[0m \u001b[0mself\u001b[0m\u001b[0;34m.\u001b[0m\u001b[0m_location\u001b[0m \u001b[0;32mor\u001b[0m \u001b[0;32mnot\u001b[0m \u001b[0mloc\u001b[0m\u001b[0;34m:\u001b[0m\u001b[0;34m\u001b[0m\u001b[0;34m\u001b[0m\u001b[0m\n\u001b[1;32m    549\u001b[0m             \u001b[0;32mreturn\u001b[0m \u001b[0mself\u001b[0m\u001b[0;34m.\u001b[0m\u001b[0m_location\u001b[0m\u001b[0;34m\u001b[0m\u001b[0;34m\u001b[0m\u001b[0m\n",
      "\u001b[0;32m/usr/local/lib/python3.7/dist-packages/instaloader/structures.py\u001b[0m in \u001b[0;36m_field\u001b[0;34m(self, *keys)\u001b[0m\n\u001b[1;32m    184\u001b[0m             \u001b[0;32mreturn\u001b[0m \u001b[0md\u001b[0m\u001b[0;34m\u001b[0m\u001b[0;34m\u001b[0m\u001b[0m\n\u001b[1;32m    185\u001b[0m         \u001b[0;32mexcept\u001b[0m \u001b[0mKeyError\u001b[0m\u001b[0;34m:\u001b[0m\u001b[0;34m\u001b[0m\u001b[0;34m\u001b[0m\u001b[0m\n\u001b[0;32m--> 186\u001b[0;31m             \u001b[0md\u001b[0m \u001b[0;34m=\u001b[0m \u001b[0mself\u001b[0m\u001b[0;34m.\u001b[0m\u001b[0m_full_metadata\u001b[0m\u001b[0;34m\u001b[0m\u001b[0;34m\u001b[0m\u001b[0m\n\u001b[0m\u001b[1;32m    187\u001b[0m             \u001b[0;32mfor\u001b[0m \u001b[0mkey\u001b[0m \u001b[0;32min\u001b[0m \u001b[0mkeys\u001b[0m\u001b[0;34m:\u001b[0m\u001b[0;34m\u001b[0m\u001b[0;34m\u001b[0m\u001b[0m\n\u001b[1;32m    188\u001b[0m                 \u001b[0md\u001b[0m \u001b[0;34m=\u001b[0m \u001b[0md\u001b[0m\u001b[0;34m[\u001b[0m\u001b[0mkey\u001b[0m\u001b[0;34m]\u001b[0m\u001b[0;34m\u001b[0m\u001b[0;34m\u001b[0m\u001b[0m\n",
      "\u001b[0;32m/usr/local/lib/python3.7/dist-packages/instaloader/structures.py\u001b[0m in \u001b[0;36m_full_metadata\u001b[0;34m(self)\u001b[0m\n\u001b[1;32m    163\u001b[0m     \u001b[0;34m@\u001b[0m\u001b[0mproperty\u001b[0m\u001b[0;34m\u001b[0m\u001b[0;34m\u001b[0m\u001b[0m\n\u001b[1;32m    164\u001b[0m     \u001b[0;32mdef\u001b[0m \u001b[0m_full_metadata\u001b[0m\u001b[0;34m(\u001b[0m\u001b[0mself\u001b[0m\u001b[0;34m)\u001b[0m \u001b[0;34m->\u001b[0m \u001b[0mDict\u001b[0m\u001b[0;34m[\u001b[0m\u001b[0mstr\u001b[0m\u001b[0;34m,\u001b[0m \u001b[0mAny\u001b[0m\u001b[0;34m]\u001b[0m\u001b[0;34m:\u001b[0m\u001b[0;34m\u001b[0m\u001b[0;34m\u001b[0m\u001b[0m\n\u001b[0;32m--> 165\u001b[0;31m         \u001b[0mself\u001b[0m\u001b[0;34m.\u001b[0m\u001b[0m_obtain_metadata\u001b[0m\u001b[0;34m(\u001b[0m\u001b[0;34m)\u001b[0m\u001b[0;34m\u001b[0m\u001b[0;34m\u001b[0m\u001b[0m\n\u001b[0m\u001b[1;32m    166\u001b[0m         \u001b[0;32massert\u001b[0m \u001b[0mself\u001b[0m\u001b[0;34m.\u001b[0m\u001b[0m_full_metadata_dict\u001b[0m \u001b[0;32mis\u001b[0m \u001b[0;32mnot\u001b[0m \u001b[0;32mNone\u001b[0m\u001b[0;34m\u001b[0m\u001b[0;34m\u001b[0m\u001b[0m\n\u001b[1;32m    167\u001b[0m         \u001b[0;32mreturn\u001b[0m \u001b[0mself\u001b[0m\u001b[0;34m.\u001b[0m\u001b[0m_full_metadata_dict\u001b[0m\u001b[0;34m\u001b[0m\u001b[0;34m\u001b[0m\u001b[0m\n",
      "\u001b[0;32m/usr/local/lib/python3.7/dist-packages/instaloader/structures.py\u001b[0m in \u001b[0;36m_obtain_metadata\u001b[0;34m(self)\u001b[0m\n\u001b[1;32m    156\u001b[0m             \u001b[0mself\u001b[0m\u001b[0;34m.\u001b[0m\u001b[0m_full_metadata_dict\u001b[0m \u001b[0;34m=\u001b[0m \u001b[0mpic_json\u001b[0m\u001b[0;34m[\u001b[0m\u001b[0;34m'data'\u001b[0m\u001b[0;34m]\u001b[0m\u001b[0;34m[\u001b[0m\u001b[0;34m'shortcode_media'\u001b[0m\u001b[0;34m]\u001b[0m\u001b[0;34m\u001b[0m\u001b[0;34m\u001b[0m\u001b[0m\n\u001b[1;32m    157\u001b[0m             \u001b[0;32mif\u001b[0m \u001b[0mself\u001b[0m\u001b[0;34m.\u001b[0m\u001b[0m_full_metadata_dict\u001b[0m \u001b[0;32mis\u001b[0m \u001b[0;32mNone\u001b[0m\u001b[0;34m:\u001b[0m\u001b[0;34m\u001b[0m\u001b[0;34m\u001b[0m\u001b[0m\n\u001b[0;32m--> 158\u001b[0;31m                 \u001b[0;32mraise\u001b[0m \u001b[0mBadResponseException\u001b[0m\u001b[0;34m(\u001b[0m\u001b[0;34m\"Fetching Post metadata failed.\"\u001b[0m\u001b[0;34m)\u001b[0m\u001b[0;34m\u001b[0m\u001b[0;34m\u001b[0m\u001b[0m\n\u001b[0m\u001b[1;32m    159\u001b[0m             \u001b[0;32mif\u001b[0m \u001b[0mself\u001b[0m\u001b[0;34m.\u001b[0m\u001b[0mshortcode\u001b[0m \u001b[0;34m!=\u001b[0m \u001b[0mself\u001b[0m\u001b[0;34m.\u001b[0m\u001b[0m_full_metadata_dict\u001b[0m\u001b[0;34m[\u001b[0m\u001b[0;34m'shortcode'\u001b[0m\u001b[0;34m]\u001b[0m\u001b[0;34m:\u001b[0m\u001b[0;34m\u001b[0m\u001b[0;34m\u001b[0m\u001b[0m\n\u001b[1;32m    160\u001b[0m                 \u001b[0mself\u001b[0m\u001b[0;34m.\u001b[0m\u001b[0m_node\u001b[0m\u001b[0;34m.\u001b[0m\u001b[0mupdate\u001b[0m\u001b[0;34m(\u001b[0m\u001b[0mself\u001b[0m\u001b[0;34m.\u001b[0m\u001b[0m_full_metadata_dict\u001b[0m\u001b[0;34m)\u001b[0m\u001b[0;34m\u001b[0m\u001b[0;34m\u001b[0m\u001b[0m\n",
      "\u001b[0;31mBadResponseException\u001b[0m: Fetching Post metadata failed."
     ]
    }
   ],
   "source": [
    "posts = download_posts_with_hashtag(loader,\n",
    "                                    hashtags=['mural','urbanart','streetart','muralart'],\n",
    "                                    max_per_hashtag=50)\n",
    "#Function to retrieve Instagram posts based on the hashtags passed"
   ]
  },
  {
   "cell_type": "markdown",
   "metadata": {
    "id": "Rw2efOtjC-rM"
   },
   "source": [
    "### Load data from an account"
   ]
  },
  {
   "cell_type": "code",
   "execution_count": null,
   "metadata": {
    "id": "ZR7VtZoAC-Zp"
   },
   "outputs": [],
   "source": [
    "#Get data from an specific account\n",
    "posts = instaloader.Profile.from_username(loader.context, 'streetart_official').get_posts()"
   ]
  },
  {
   "cell_type": "markdown",
   "metadata": {
    "id": "YSnN4Kv1DJnu"
   },
   "source": [
    "### Process posts"
   ]
  },
  {
   "cell_type": "code",
   "execution_count": null,
   "metadata": {
    "colab": {
     "base_uri": "https://localhost:8080/"
    },
    "id": "NuYizG3HE-mx",
    "outputId": "e217da72-06c2-406d-df49-242af1df06f1"
   },
   "outputs": [
    {
     "name": "stdout",
     "output_type": "stream",
     "text": [
      "0 posts added in 0.00016832351684570312 seconds\n",
      "10 posts added in 5.212122440338135 seconds\n",
      "20 posts added in 20.994341373443604 seconds\n",
      "30 posts added in 22.600958108901978 seconds\n",
      "40 posts added in 33.98464059829712 seconds\n",
      "50 posts added in 39.784690141677856 seconds\n",
      "60 posts added in 42.538174629211426 seconds\n",
      "70 posts added in 44.08780026435852 seconds\n",
      "80 posts added in 47.14243841171265 seconds\n",
      "90 posts added in 51.48407006263733 seconds\n",
      "100 posts added in 59.242613554000854 seconds\n",
      "110 posts added in 72.88256192207336 seconds\n",
      "-------------------------\n",
      "120 posts loaded in 91.49477434158325 seconds\n"
     ]
    }
   ],
   "source": [
    "import time\n",
    "i = 0\n",
    "df = pd.DataFrame()\n",
    "tock = time.time()\n",
    "\n",
    "#Loop to access the information stored in 'posts'\n",
    "for post in posts:\n",
    "    if i%10 == 0:\n",
    "        print(str(i)+' posts added in '+str(time.time()-tock)+' seconds')\n",
    "    df = df.append({'Username': post.owner_username,\n",
    "                    'Username_ID': post.owner_id,\n",
    "                    'Caption': post.caption,\n",
    "                    'Likes': post.likes,\n",
    "                    'Comments': post.comments,\n",
    "                    'Hashtags_Caption': post.caption_hashtags,\n",
    "                    'Mentions_Caption': post.caption_mentions,\n",
    "                    'Comments_Text': list((comment.text for comment in post.get_comments())),\n",
    "                    'Location': post.location},\n",
    "                   ignore_index=True)\n",
    "    i += 1\n",
    "\n",
    "tick = time.time()\n",
    "print('-'*25)\n",
    "print(str(i)+' posts loaded in '+str(tick-tock)+' seconds')"
   ]
  },
  {
   "cell_type": "code",
   "execution_count": null,
   "metadata": {
    "colab": {
     "base_uri": "https://localhost:8080/",
     "height": 925
    },
    "id": "m52mSSApYELJ",
    "outputId": "6d7b4132-0566-4a62-8e2a-f345aeef6ae8"
   },
   "outputs": [
    {
     "data": {
      "text/html": [
       "<div>\n",
       "<style scoped>\n",
       "    .dataframe tbody tr th:only-of-type {\n",
       "        vertical-align: middle;\n",
       "    }\n",
       "\n",
       "    .dataframe tbody tr th {\n",
       "        vertical-align: top;\n",
       "    }\n",
       "\n",
       "    .dataframe thead th {\n",
       "        text-align: right;\n",
       "    }\n",
       "</style>\n",
       "<table border=\"1\" class=\"dataframe\">\n",
       "  <thead>\n",
       "    <tr style=\"text-align: right;\">\n",
       "      <th></th>\n",
       "      <th>Caption</th>\n",
       "      <th>Comments</th>\n",
       "      <th>Comments_Text</th>\n",
       "      <th>Hashtags_Caption</th>\n",
       "      <th>Likes</th>\n",
       "      <th>Location</th>\n",
       "      <th>Mentions_Caption</th>\n",
       "      <th>Username</th>\n",
       "      <th>Username_ID</th>\n",
       "    </tr>\n",
       "  </thead>\n",
       "  <tbody>\n",
       "    <tr>\n",
       "      <th>0</th>\n",
       "      <td>#mural #streetart #graffiti #art #door #archit...</td>\n",
       "      <td>0.0</td>\n",
       "      <td>[]</td>\n",
       "      <td>[mural, streetart, graffiti, art, door, archit...</td>\n",
       "      <td>0.0</td>\n",
       "      <td>None</td>\n",
       "      <td>[]</td>\n",
       "      <td>jrnvdvn</td>\n",
       "      <td>194079677</td>\n",
       "    </tr>\n",
       "    <tr>\n",
       "      <th>1</th>\n",
       "      <td>#mural #barrio #milanes #burros y #burritos #c...</td>\n",
       "      <td>0.0</td>\n",
       "      <td>[]</td>\n",
       "      <td>[mural, barrio, milanes, burros, burritos, cam...</td>\n",
       "      <td>0.0</td>\n",
       "      <td>(544382654, Ocaña, Nte de Santander, ocana-nte...</td>\n",
       "      <td>[]</td>\n",
       "      <td>foto_espanol</td>\n",
       "      <td>37009816137</td>\n",
       "    </tr>\n",
       "    <tr>\n",
       "      <th>2</th>\n",
       "      <td>You guys remember that process video I was wor...</td>\n",
       "      <td>1.0</td>\n",
       "      <td>[.\\n.\\n.\\n.\\n.\\n #La #dtla #losangeles #laart ...</td>\n",
       "      <td>[]</td>\n",
       "      <td>5.0</td>\n",
       "      <td>(212999109, Los Angeles, California, los-angel...</td>\n",
       "      <td>[]</td>\n",
       "      <td>darlamcgraw</td>\n",
       "      <td>405608924</td>\n",
       "    </tr>\n",
       "    <tr>\n",
       "      <th>3</th>\n",
       "      <td>#hotelgoals#interiordesing#decor#artwall#mural...</td>\n",
       "      <td>0.0</td>\n",
       "      <td>[]</td>\n",
       "      <td>[hotelgoals, interiordesing, decor, artwall, m...</td>\n",
       "      <td>0.0</td>\n",
       "      <td>(213312927, Maastricht, Netherlands, maastrich...</td>\n",
       "      <td>[]</td>\n",
       "      <td>interiordesignbycd</td>\n",
       "      <td>46916910690</td>\n",
       "    </tr>\n",
       "    <tr>\n",
       "      <th>4</th>\n",
       "      <td>Brilliant work from @titlegraffiti</td>\n",
       "      <td>1.0</td>\n",
       "      <td>[#streetart #streetarteverywhere #streetartpho...</td>\n",
       "      <td>[]</td>\n",
       "      <td>4.0</td>\n",
       "      <td>(227564293, Digbeth, digbeth, True, 52.4763888...</td>\n",
       "      <td>[titlegraffiti]</td>\n",
       "      <td>streetartandstuff9</td>\n",
       "      <td>43820021208</td>\n",
       "    </tr>\n",
       "    <tr>\n",
       "      <th>...</th>\n",
       "      <td>...</td>\n",
       "      <td>...</td>\n",
       "      <td>...</td>\n",
       "      <td>...</td>\n",
       "      <td>...</td>\n",
       "      <td>...</td>\n",
       "      <td>...</td>\n",
       "      <td>...</td>\n",
       "      <td>...</td>\n",
       "    </tr>\n",
       "    <tr>\n",
       "      <th>115</th>\n",
       "      <td>Louis Vuitton Malletier, commonly known as Lou...</td>\n",
       "      <td>0.0</td>\n",
       "      <td>[]</td>\n",
       "      <td>[art, artist, mural, muralart, muralmarch, pai...</td>\n",
       "      <td>2.0</td>\n",
       "      <td>None</td>\n",
       "      <td>[]</td>\n",
       "      <td>cram_design</td>\n",
       "      <td>12842261686</td>\n",
       "    </tr>\n",
       "    <tr>\n",
       "      <th>116</th>\n",
       "      <td>Even if we do not celebrate the day today as a...</td>\n",
       "      <td>0.0</td>\n",
       "      <td>[]</td>\n",
       "      <td>[jorgensimonsen, jorgensimonsenparis, jørgensi...</td>\n",
       "      <td>7.0</td>\n",
       "      <td>None</td>\n",
       "      <td>[]</td>\n",
       "      <td>jorgen.simonsenparis</td>\n",
       "      <td>3198646528</td>\n",
       "    </tr>\n",
       "    <tr>\n",
       "      <th>117</th>\n",
       "      <td>That new new! Part of my new series - Find her...</td>\n",
       "      <td>0.0</td>\n",
       "      <td>[]</td>\n",
       "      <td>[painting, acrylic, series, art, paintersofins...</td>\n",
       "      <td>11.0</td>\n",
       "      <td>(212950988, Brooklyn, New York, brooklyn-new-y...</td>\n",
       "      <td>[]</td>\n",
       "      <td>slayybelledraws_2.0</td>\n",
       "      <td>37577263696</td>\n",
       "    </tr>\n",
       "    <tr>\n",
       "      <th>118</th>\n",
       "      <td>#streetart #streetartparis #streetarteverywher...</td>\n",
       "      <td>1.0</td>\n",
       "      <td>[Très heureuse de revoir cette Vénus urbaine ;...</td>\n",
       "      <td>[streetart, streetartparis, streetarteverywher...</td>\n",
       "      <td>11.0</td>\n",
       "      <td>None</td>\n",
       "      <td>[marquise.streetart]</td>\n",
       "      <td>ttestelle</td>\n",
       "      <td>1134635129</td>\n",
       "    </tr>\n",
       "    <tr>\n",
       "      <th>119</th>\n",
       "      <td>Marvelous looking wall from @matt.dosa</td>\n",
       "      <td>2.0</td>\n",
       "      <td>[#streetart #streetarteverywhere #streetartpho...</td>\n",
       "      <td>[]</td>\n",
       "      <td>10.0</td>\n",
       "      <td>(228354292, New Brighton, Wirral, United Kingd...</td>\n",
       "      <td>[matt.dosa]</td>\n",
       "      <td>streetartandstuff9</td>\n",
       "      <td>43820021208</td>\n",
       "    </tr>\n",
       "  </tbody>\n",
       "</table>\n",
       "<p>120 rows × 9 columns</p>\n",
       "</div>"
      ],
      "text/plain": [
       "                                               Caption  ...  Username_ID\n",
       "0    #mural #streetart #graffiti #art #door #archit...  ...    194079677\n",
       "1    #mural #barrio #milanes #burros y #burritos #c...  ...  37009816137\n",
       "2    You guys remember that process video I was wor...  ...    405608924\n",
       "3    #hotelgoals#interiordesing#decor#artwall#mural...  ...  46916910690\n",
       "4                   Brilliant work from @titlegraffiti  ...  43820021208\n",
       "..                                                 ...  ...          ...\n",
       "115  Louis Vuitton Malletier, commonly known as Lou...  ...  12842261686\n",
       "116  Even if we do not celebrate the day today as a...  ...   3198646528\n",
       "117  That new new! Part of my new series - Find her...  ...  37577263696\n",
       "118  #streetart #streetartparis #streetarteverywher...  ...   1134635129\n",
       "119             Marvelous looking wall from @matt.dosa  ...  43820021208\n",
       "\n",
       "[120 rows x 9 columns]"
      ]
     },
     "execution_count": 12,
     "metadata": {
      "tags": []
     },
     "output_type": "execute_result"
    }
   ],
   "source": [
    "df"
   ]
  },
  {
   "cell_type": "code",
   "execution_count": null,
   "metadata": {
    "id": "XUcHQxTQV03P"
   },
   "outputs": [],
   "source": [
    "df.to_csv('instagram_loader.csv')"
   ]
  },
  {
   "cell_type": "markdown",
   "metadata": {
    "id": "ef_zpeNuwKDD"
   },
   "source": [
    "### Geolocator (Unused Method)\n",
    "We opted to use a different method of Geoparsing, but this is testing with GeoText and Nominatim"
   ]
  },
  {
   "cell_type": "code",
   "execution_count": null,
   "metadata": {
    "id": "dmJTXATBIGOp"
   },
   "outputs": [],
   "source": [
    "df = pd.read_csv('https://raw.githubusercontent.com/hoganj15/MMA_Assignment_Data/main/instagram.csv') #reading in prior scrape data\n",
    "df = df.drop('Unnamed: 0', axis=1)"
   ]
  },
  {
   "cell_type": "code",
   "execution_count": null,
   "metadata": {
    "id": "n1-ePHCwWO4s"
   },
   "outputs": [],
   "source": [
    "#strip whitespace\n",
    "df['Caption'] = np.array([x.strip() for x in list(df['Caption'])])"
   ]
  },
  {
   "cell_type": "code",
   "execution_count": null,
   "metadata": {
    "colab": {
     "base_uri": "https://localhost:8080/"
    },
    "id": "eTgKF-Uda4Rn",
    "outputId": "9141b9ef-996d-4f65-889f-b96e967fe78d"
   },
   "outputs": [
    {
     "data": {
      "text/plain": [
       "0      “Always Stay Hungry” - work by @sasha.korban f...\n",
       "1      Work by @ronenglish on the famed Houston Bower...\n",
       "2             New work by @invaderwashere in Slovenia. 👾\n",
       "3             Work by @davidzinn in Ann Arbor, Michigan.\n",
       "4      “Touché, coulé” - new work by @matth.velvet in...\n",
       "                             ...                        \n",
       "247    ‘ModernLove2019’ | new work by @joeiurato #joe...\n",
       "248    ‘The Case’ | new wall by @gleo_co for @muraliz...\n",
       "249    ‘Youth Has No Age’ | new work by @myhoodisgood...\n",
       "250    “Billie Jean” | new work by @jps_artist in Ger...\n",
       "251    ”Four Men Holding A Column” by @fintan_magee f...\n",
       "Name: Caption, Length: 252, dtype: object"
      ]
     },
     "execution_count": 9,
     "metadata": {
      "tags": []
     },
     "output_type": "execute_result"
    }
   ],
   "source": [
    "df['Caption']"
   ]
  },
  {
   "cell_type": "markdown",
   "metadata": {
    "id": "cbne4jJIHxCM"
   },
   "source": []
  },
  {
   "cell_type": "code",
   "execution_count": null,
   "metadata": {
    "colab": {
     "base_uri": "https://localhost:8080/"
    },
    "id": "ho4X42Gxa_AK",
    "outputId": "5f3370c5-0421-4ce1-a0a8-9cff1f1910dc"
   },
   "outputs": [
    {
     "name": "stderr",
     "output_type": "stream",
     "text": [
      "/usr/local/lib/python3.7/dist-packages/geopy/geocoders/osm.py:143: UserWarning: Using Nominatim with the default \"geopy/1.17.0\" `user_agent` is strongly discouraged, as it violates Nominatim's ToS https://operations.osmfoundation.org/policies/nominatim/ and may possibly cause 403 and 429 HTTP errors. Please specify a custom `user_agent` with `Nominatim(user_agent=\"my-application\")` or by overriding the default `user_agent`: `geopy.geocoders.options.default_user_agent = \"my-application\"`. In geopy 2.0 this will become an exception.\n",
      "  UserWarning\n"
     ]
    }
   ],
   "source": [
    "lat_lon = dict()\n",
    "i = 0\n",
    "#for each caption, get referenced cities and countries\n",
    "for caption in df['Caption']:\n",
    "  geolocator = Nominatim(timeout = 2)\n",
    "\n",
    "  places = GeoText(caption)\n",
    "  countries = places.countries\n",
    "  cities = places.cities\n",
    "\n",
    "  city_mentions = []\n",
    "  country_mentions = []\n",
    "\n",
    "  for city in cities:\n",
    "    location = geolocator.geocode(city) #for each city referenced and tagged, get coordinates\n",
    "    if location:\n",
    "      city_mentions.append(location) \n",
    "  for country in countries:\n",
    "    location = geolocator.geocode(country) #for each country referenced and tagged, get coordinates\n",
    "    if location:\n",
    "      country_mentions.append(location)\n",
    "  if len(city_mentions) == 0: #if no city/country referenced, specify that\n",
    "    city_mentions = 'None'\n",
    "  if len(country_mentions) == 0:\n",
    "    country_mentions = 'None'\n",
    "\n",
    "  lat_lon[i] = {'Cities Mentioned': city_mentions, 'Countries Mentioned': country_mentions}\n",
    "  i += 1"
   ]
  },
  {
   "cell_type": "code",
   "execution_count": null,
   "metadata": {
    "colab": {
     "base_uri": "https://localhost:8080/",
     "height": 419
    },
    "id": "lZ8pagUbbUln",
    "outputId": "82e0de35-52d2-44c9-95ce-416606c13882"
   },
   "outputs": [
    {
     "data": {
      "text/html": [
       "<div>\n",
       "<style scoped>\n",
       "    .dataframe tbody tr th:only-of-type {\n",
       "        vertical-align: middle;\n",
       "    }\n",
       "\n",
       "    .dataframe tbody tr th {\n",
       "        vertical-align: top;\n",
       "    }\n",
       "\n",
       "    .dataframe thead th {\n",
       "        text-align: right;\n",
       "    }\n",
       "</style>\n",
       "<table border=\"1\" class=\"dataframe\">\n",
       "  <thead>\n",
       "    <tr style=\"text-align: right;\">\n",
       "      <th></th>\n",
       "      <th>Cities Mentioned</th>\n",
       "      <th>Countries Mentioned</th>\n",
       "    </tr>\n",
       "  </thead>\n",
       "  <tbody>\n",
       "    <tr>\n",
       "      <th>0</th>\n",
       "      <td>None</td>\n",
       "      <td>None</td>\n",
       "    </tr>\n",
       "    <tr>\n",
       "      <th>1</th>\n",
       "      <td>[(Manhattan, New York County, New York, 10129,...</td>\n",
       "      <td>None</td>\n",
       "    </tr>\n",
       "    <tr>\n",
       "      <th>2</th>\n",
       "      <td>None</td>\n",
       "      <td>[(Slovenija, (45.8133113, 14.4808369))]</td>\n",
       "    </tr>\n",
       "    <tr>\n",
       "      <th>3</th>\n",
       "      <td>[(Ann Arbor, Washtenaw County, Michigan, Unite...</td>\n",
       "      <td>None</td>\n",
       "    </tr>\n",
       "    <tr>\n",
       "      <th>4</th>\n",
       "      <td>None</td>\n",
       "      <td>[(België / Belgique / Belgien, (50.6402809, 4....</td>\n",
       "    </tr>\n",
       "    <tr>\n",
       "      <th>...</th>\n",
       "      <td>...</td>\n",
       "      <td>...</td>\n",
       "    </tr>\n",
       "    <tr>\n",
       "      <th>247</th>\n",
       "      <td>None</td>\n",
       "      <td>None</td>\n",
       "    </tr>\n",
       "    <tr>\n",
       "      <th>248</th>\n",
       "      <td>None</td>\n",
       "      <td>None</td>\n",
       "    </tr>\n",
       "    <tr>\n",
       "      <th>249</th>\n",
       "      <td>[(Barcelona, Barcelonès, Barcelona, Catalunya,...</td>\n",
       "      <td>None</td>\n",
       "    </tr>\n",
       "    <tr>\n",
       "      <th>250</th>\n",
       "      <td>None</td>\n",
       "      <td>[(Deutschland, (51.0834196, 10.4234469))]</td>\n",
       "    </tr>\n",
       "    <tr>\n",
       "      <th>251</th>\n",
       "      <td>[(جدة, محافظة جدة, منطقة مكة المكرمة, 23443, ا...</td>\n",
       "      <td>[(India, (22.3511148, 78.6677428)), (قطر, (25....</td>\n",
       "    </tr>\n",
       "  </tbody>\n",
       "</table>\n",
       "<p>252 rows × 2 columns</p>\n",
       "</div>"
      ],
      "text/plain": [
       "                                      Cities Mentioned                                Countries Mentioned\n",
       "0                                                 None                                               None\n",
       "1    [(Manhattan, New York County, New York, 10129,...                                               None\n",
       "2                                                 None            [(Slovenija, (45.8133113, 14.4808369))]\n",
       "3    [(Ann Arbor, Washtenaw County, Michigan, Unite...                                               None\n",
       "4                                                 None  [(België / Belgique / Belgien, (50.6402809, 4....\n",
       "..                                                 ...                                                ...\n",
       "247                                               None                                               None\n",
       "248                                               None                                               None\n",
       "249  [(Barcelona, Barcelonès, Barcelona, Catalunya,...                                               None\n",
       "250                                               None          [(Deutschland, (51.0834196, 10.4234469))]\n",
       "251  [(جدة, محافظة جدة, منطقة مكة المكرمة, 23443, ا...  [(India, (22.3511148, 78.6677428)), (قطر, (25....\n",
       "\n",
       "[252 rows x 2 columns]"
      ]
     },
     "execution_count": 11,
     "metadata": {
      "tags": []
     },
     "output_type": "execute_result"
    }
   ],
   "source": [
    "lat_lon = pd.DataFrame.from_dict(lat_lon, orient = 'index')\n",
    "lat_lon"
   ]
  },
  {
   "cell_type": "code",
   "execution_count": null,
   "metadata": {
    "id": "QG0Jrz0rff-1"
   },
   "outputs": [],
   "source": [
    "all = []\n",
    "for row in range(len(lat_lon)):\n",
    "  if lat_lon.loc[row, 'Cities Mentioned'] == 'None':\n",
    "    x1 = []\n",
    "  else:\n",
    "    x1 = lat_lon.loc[row, 'Cities Mentioned']\n",
    "  \n",
    "  if lat_lon.loc[row, 'Countries Mentioned'] == 'None':\n",
    "    x2 = []\n",
    "  else:\n",
    "    x2 = lat_lon.loc[row, 'Countries Mentioned']\n",
    "\n",
    "  add = x1+x2\n",
    "  if len(add) == 0:\n",
    "    add = 'None'\n",
    "  all.append(add)"
   ]
  },
  {
   "cell_type": "code",
   "execution_count": null,
   "metadata": {
    "colab": {
     "base_uri": "https://localhost:8080/"
    },
    "id": "3IHF6iAUfycr",
    "outputId": "e733d5bf-1b9a-4be4-fb38-5e9ace8321c1"
   },
   "outputs": [
    {
     "name": "stderr",
     "output_type": "stream",
     "text": [
      "/usr/local/lib/python3.7/dist-packages/ipykernel_launcher.py:1: VisibleDeprecationWarning: Creating an ndarray from ragged nested sequences (which is a list-or-tuple of lists-or-tuples-or ndarrays with different lengths or shapes) is deprecated. If you meant to do this, you must specify 'dtype=object' when creating the ndarray\n",
      "  \"\"\"Entry point for launching an IPython kernel.\n"
     ]
    }
   ],
   "source": [
    "lat_lon['All Mentions'] = np.array(all)"
   ]
  },
  {
   "cell_type": "code",
   "execution_count": null,
   "metadata": {
    "colab": {
     "base_uri": "https://localhost:8080/"
    },
    "id": "UwAuWIh6gfwG",
    "outputId": "c72fd697-7c91-4ada-e6d0-4e5186a6518d"
   },
   "outputs": [
    {
     "data": {
      "text/plain": [
       "None    79\n",
       "Name: All Mentions, dtype: int64"
      ]
     },
     "execution_count": 14,
     "metadata": {
      "tags": []
     },
     "output_type": "execute_result"
    }
   ],
   "source": [
    "lat_lon['All Mentions'].value_counts().head(1)"
   ]
  }
 ],
 "metadata": {
  "colab": {
   "collapsed_sections": [
    "NCkkWS9VDmry",
    "PQVLOMNJDsSq",
    "dpgH0gyiRfOH",
    "Rw2efOtjC-rM",
    "YSnN4Kv1DJnu",
    "ef_zpeNuwKDD"
   ],
   "name": "1. Instagram Scraping",
   "provenance": []
  },
  "kernelspec": {
   "display_name": "Python 3",
   "language": "python",
   "name": "python3"
  },
  "language_info": {
   "codemirror_mode": {
    "name": "ipython",
    "version": 3
   },
   "file_extension": ".py",
   "mimetype": "text/x-python",
   "name": "python",
   "nbconvert_exporter": "python",
   "pygments_lexer": "ipython3",
   "version": "3.7.7"
  }
 },
 "nbformat": 4,
 "nbformat_minor": 1
}
